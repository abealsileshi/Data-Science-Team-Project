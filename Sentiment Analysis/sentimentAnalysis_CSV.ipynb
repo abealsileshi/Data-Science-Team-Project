{
 "cells": [
  {
   "cell_type": "code",
   "execution_count": 1,
   "metadata": {},
   "outputs": [
    {
     "name": "stderr",
     "output_type": "stream",
     "text": [
      "/Users/blue/.pyenv/versions/3.8.5/lib/python3.8/site-packages/pandas/compat/__init__.py:120: UserWarning: Could not import the lzma module. Your installed Python is incomplete. Attempting to use lzma compression will result in a RuntimeError.\n",
      "  warnings.warn(msg)\n",
      "[nltk_data] Downloading package vader_lexicon to\n",
      "[nltk_data]     /Users/blue/nltk_data...\n",
      "[nltk_data]   Package vader_lexicon is already up-to-date!\n"
     ]
    }
   ],
   "source": [
    "import numpy as np \n",
    "import pandas as pd \n",
    "import matplotlib.pyplot as plt\n",
    "import matplotlib.dates as mdates\n",
    "import matplotlib.ticker as tkr\n",
    "import seaborn as sns\n",
    "import scipy as stats\n",
    "\n",
    "import nltk # sentiment library\n",
    "nltk.download('vader_lexicon') # download vader lexicon\n",
    "from nltk.sentiment import SentimentIntensityAnalyzer as SIA"
   ]
  },
  {
   "cell_type": "code",
   "execution_count": 2,
   "metadata": {},
   "outputs": [
    {
     "name": "stdout",
     "output_type": "stream",
     "text": [
      "data/.DS_Store\n",
      "data/Company_Tweet.csv\n",
      "data/Tweet.csv.zip\n",
      "data/Tweet.csv\n",
      "data/Company_Tweet.csv.zip\n"
     ]
    }
   ],
   "source": [
    "#provides relative paths for csv as referenced from a folder\n",
    "import os\n",
    "for dirname, _, filenames in os.walk('data'): #path to folder\n",
    "    for filename in filenames:\n",
    "        print(os.path.join(dirname, filename))"
   ]
  },
  {
   "cell_type": "code",
   "execution_count": 3,
   "metadata": {},
   "outputs": [],
   "source": [
    "# read CSV and import tweets\n",
    "tweets=pd.read_csv('data/Tweet.csv')\n",
    "company_tweets=pd.read_csv('data/Company_Tweet.csv')\n",
    "tweets=tweets.merge(company_tweets,how='left',on='tweet_id')\n",
    "\n",
    "# add time format dates \n",
    "tweets['date'] = pd.to_datetime(tweets['post_date'], unit='s').dt.date\n",
    "tweets.date=pd.to_datetime( tweets.date,errors='coerce')\n",
    "tweets['time'] = pd.to_datetime(tweets['post_date'], unit='s').dt.time\n",
    "#1420070457 to 2015-01-01 00:00:57"
   ]
  },
  {
   "cell_type": "code",
   "execution_count": 4,
   "metadata": {},
   "outputs": [
    {
     "name": "stdout",
     "output_type": "stream",
     "text": [
      "# of data points: 4336445\n"
     ]
    },
    {
     "data": {
      "text/html": [
       "<div>\n",
       "<style scoped>\n",
       "    .dataframe tbody tr th:only-of-type {\n",
       "        vertical-align: middle;\n",
       "    }\n",
       "\n",
       "    .dataframe tbody tr th {\n",
       "        vertical-align: top;\n",
       "    }\n",
       "\n",
       "    .dataframe thead th {\n",
       "        text-align: right;\n",
       "    }\n",
       "</style>\n",
       "<table border=\"1\" class=\"dataframe\">\n",
       "  <thead>\n",
       "    <tr style=\"text-align: right;\">\n",
       "      <th></th>\n",
       "      <th>tweet_id</th>\n",
       "      <th>writer</th>\n",
       "      <th>post_date</th>\n",
       "      <th>body</th>\n",
       "      <th>comment_num</th>\n",
       "      <th>retweet_num</th>\n",
       "      <th>like_num</th>\n",
       "      <th>ticker_symbol</th>\n",
       "      <th>date</th>\n",
       "      <th>time</th>\n",
       "    </tr>\n",
       "  </thead>\n",
       "  <tbody>\n",
       "    <tr>\n",
       "      <th>0</th>\n",
       "      <td>550441509175443456</td>\n",
       "      <td>VisualStockRSRC</td>\n",
       "      <td>1420070457</td>\n",
       "      <td>lx21 made $10,008  on $AAPL -Check it out! htt...</td>\n",
       "      <td>0</td>\n",
       "      <td>0</td>\n",
       "      <td>1</td>\n",
       "      <td>AAPL</td>\n",
       "      <td>2015-01-01</td>\n",
       "      <td>00:00:57</td>\n",
       "    </tr>\n",
       "    <tr>\n",
       "      <th>1</th>\n",
       "      <td>550441672312512512</td>\n",
       "      <td>KeralaGuy77</td>\n",
       "      <td>1420070496</td>\n",
       "      <td>Insanity of today weirdo massive selling. $aap...</td>\n",
       "      <td>0</td>\n",
       "      <td>0</td>\n",
       "      <td>0</td>\n",
       "      <td>AAPL</td>\n",
       "      <td>2015-01-01</td>\n",
       "      <td>00:01:36</td>\n",
       "    </tr>\n",
       "    <tr>\n",
       "      <th>2</th>\n",
       "      <td>550441732014223360</td>\n",
       "      <td>DozenStocks</td>\n",
       "      <td>1420070510</td>\n",
       "      <td>S&amp;P100 #Stocks Performance $HD $LOW $SBUX $TGT...</td>\n",
       "      <td>0</td>\n",
       "      <td>0</td>\n",
       "      <td>0</td>\n",
       "      <td>AMZN</td>\n",
       "      <td>2015-01-01</td>\n",
       "      <td>00:01:50</td>\n",
       "    </tr>\n",
       "    <tr>\n",
       "      <th>3</th>\n",
       "      <td>550442977802207232</td>\n",
       "      <td>ShowDreamCar</td>\n",
       "      <td>1420070807</td>\n",
       "      <td>$GM $TSLA: Volkswagen Pushes 2014 Record Recal...</td>\n",
       "      <td>0</td>\n",
       "      <td>0</td>\n",
       "      <td>1</td>\n",
       "      <td>TSLA</td>\n",
       "      <td>2015-01-01</td>\n",
       "      <td>00:06:47</td>\n",
       "    </tr>\n",
       "    <tr>\n",
       "      <th>4</th>\n",
       "      <td>550443807834402816</td>\n",
       "      <td>i_Know_First</td>\n",
       "      <td>1420071005</td>\n",
       "      <td>Swing Trading: Up To 8.91% Return In 14 Days h...</td>\n",
       "      <td>0</td>\n",
       "      <td>0</td>\n",
       "      <td>1</td>\n",
       "      <td>AAPL</td>\n",
       "      <td>2015-01-01</td>\n",
       "      <td>00:10:05</td>\n",
       "    </tr>\n",
       "  </tbody>\n",
       "</table>\n",
       "</div>"
      ],
      "text/plain": [
       "             tweet_id           writer   post_date  \\\n",
       "0  550441509175443456  VisualStockRSRC  1420070457   \n",
       "1  550441672312512512      KeralaGuy77  1420070496   \n",
       "2  550441732014223360      DozenStocks  1420070510   \n",
       "3  550442977802207232     ShowDreamCar  1420070807   \n",
       "4  550443807834402816     i_Know_First  1420071005   \n",
       "\n",
       "                                                body  comment_num  \\\n",
       "0  lx21 made $10,008  on $AAPL -Check it out! htt...            0   \n",
       "1  Insanity of today weirdo massive selling. $aap...            0   \n",
       "2  S&P100 #Stocks Performance $HD $LOW $SBUX $TGT...            0   \n",
       "3  $GM $TSLA: Volkswagen Pushes 2014 Record Recal...            0   \n",
       "4  Swing Trading: Up To 8.91% Return In 14 Days h...            0   \n",
       "\n",
       "   retweet_num  like_num ticker_symbol       date      time  \n",
       "0            0         1          AAPL 2015-01-01  00:00:57  \n",
       "1            0         0          AAPL 2015-01-01  00:01:36  \n",
       "2            0         0          AMZN 2015-01-01  00:01:50  \n",
       "3            0         1          TSLA 2015-01-01  00:06:47  \n",
       "4            0         1          AAPL 2015-01-01  00:10:05  "
      ]
     },
     "execution_count": 4,
     "metadata": {},
     "output_type": "execute_result"
    }
   ],
   "source": [
    "print(\"# of data points:\", len(tweets))\n",
    "\n",
    "tweets.head()"
   ]
  },
  {
   "cell_type": "code",
   "execution_count": 5,
   "metadata": {},
   "outputs": [],
   "source": [
    "#break up dataframe into companies\n",
    "\n",
    "#create unique list of names\n",
    "companies = tweets.ticker_symbol.unique()\n",
    "\n",
    "\n",
    "#create a data frame dictionary to store compnay data frames\n",
    "companyDict = {elem : pd.DataFrame for elem in companies}\n",
    "\n",
    "for key in companyDict.keys():\n",
    "    companyDict[key] = tweets[:][tweets.ticker_symbol == key]\n"
   ]
  },
  {
   "cell_type": "code",
   "execution_count": 6,
   "metadata": {
    "scrolled": false
   },
   "outputs": [
    {
     "name": "stdout",
     "output_type": "stream",
     "text": [
      "['AAPL' 'AMZN' 'TSLA' 'MSFT' 'GOOG' 'GOOGL']\n",
      "Number of AAPL tweets : 1425013\n",
      "Number of AMZN tweets : 718715\n",
      "Number of TSLA tweets : 1096868\n",
      "Number of MSFT tweets : 375711\n",
      "Number of GOOG tweets : 392569\n",
      "Number of GOOGL tweets : 327569\n"
     ]
    },
    {
     "data": {
      "text/html": [
       "<div>\n",
       "<style scoped>\n",
       "    .dataframe tbody tr th:only-of-type {\n",
       "        vertical-align: middle;\n",
       "    }\n",
       "\n",
       "    .dataframe tbody tr th {\n",
       "        vertical-align: top;\n",
       "    }\n",
       "\n",
       "    .dataframe thead th {\n",
       "        text-align: right;\n",
       "    }\n",
       "</style>\n",
       "<table border=\"1\" class=\"dataframe\">\n",
       "  <thead>\n",
       "    <tr style=\"text-align: right;\">\n",
       "      <th></th>\n",
       "      <th>tweet_id</th>\n",
       "      <th>writer</th>\n",
       "      <th>post_date</th>\n",
       "      <th>body</th>\n",
       "      <th>comment_num</th>\n",
       "      <th>retweet_num</th>\n",
       "      <th>like_num</th>\n",
       "      <th>ticker_symbol</th>\n",
       "      <th>date</th>\n",
       "      <th>time</th>\n",
       "    </tr>\n",
       "  </thead>\n",
       "  <tbody>\n",
       "    <tr>\n",
       "      <th>2</th>\n",
       "      <td>550441732014223360</td>\n",
       "      <td>DozenStocks</td>\n",
       "      <td>1420070510</td>\n",
       "      <td>S&amp;P100 #Stocks Performance $HD $LOW $SBUX $TGT...</td>\n",
       "      <td>0</td>\n",
       "      <td>0</td>\n",
       "      <td>0</td>\n",
       "      <td>AMZN</td>\n",
       "      <td>2015-01-01</td>\n",
       "      <td>00:01:50</td>\n",
       "    </tr>\n",
       "    <tr>\n",
       "      <th>27</th>\n",
       "      <td>550447850857828352</td>\n",
       "      <td>JorelLaraKalel</td>\n",
       "      <td>1420071969</td>\n",
       "      <td>Top 10 searched #stocks of #2014 $AAPL $FB $BA...</td>\n",
       "      <td>0</td>\n",
       "      <td>0</td>\n",
       "      <td>2</td>\n",
       "      <td>AMZN</td>\n",
       "      <td>2015-01-01</td>\n",
       "      <td>00:26:09</td>\n",
       "    </tr>\n",
       "    <tr>\n",
       "      <th>37</th>\n",
       "      <td>550453172096217088</td>\n",
       "      <td>jakubhajost</td>\n",
       "      <td>1420073237</td>\n",
       "      <td>RT @SeekingAlpha: A Look At BlackBerry's Deals...</td>\n",
       "      <td>0</td>\n",
       "      <td>0</td>\n",
       "      <td>0</td>\n",
       "      <td>AMZN</td>\n",
       "      <td>2015-01-01</td>\n",
       "      <td>00:47:17</td>\n",
       "    </tr>\n",
       "    <tr>\n",
       "      <th>38</th>\n",
       "      <td>550453624258965505</td>\n",
       "      <td>WSJ</td>\n",
       "      <td>1420073345</td>\n",
       "      <td>Jeff Bezos lost $7.4 billion in Amazon's worst...</td>\n",
       "      <td>21</td>\n",
       "      <td>139</td>\n",
       "      <td>57</td>\n",
       "      <td>AMZN</td>\n",
       "      <td>2015-01-01</td>\n",
       "      <td>00:49:05</td>\n",
       "    </tr>\n",
       "    <tr>\n",
       "      <th>39</th>\n",
       "      <td>550453897714995200</td>\n",
       "      <td>GillesKLEIN</td>\n",
       "      <td>1420073410</td>\n",
       "      <td>Jeff Bezos lost $7.4 billion in #Amazon worst ...</td>\n",
       "      <td>1</td>\n",
       "      <td>2</td>\n",
       "      <td>1</td>\n",
       "      <td>AMZN</td>\n",
       "      <td>2015-01-01</td>\n",
       "      <td>00:50:10</td>\n",
       "    </tr>\n",
       "  </tbody>\n",
       "</table>\n",
       "</div>"
      ],
      "text/plain": [
       "              tweet_id          writer   post_date  \\\n",
       "2   550441732014223360     DozenStocks  1420070510   \n",
       "27  550447850857828352  JorelLaraKalel  1420071969   \n",
       "37  550453172096217088     jakubhajost  1420073237   \n",
       "38  550453624258965505             WSJ  1420073345   \n",
       "39  550453897714995200     GillesKLEIN  1420073410   \n",
       "\n",
       "                                                 body  comment_num  \\\n",
       "2   S&P100 #Stocks Performance $HD $LOW $SBUX $TGT...            0   \n",
       "27  Top 10 searched #stocks of #2014 $AAPL $FB $BA...            0   \n",
       "37  RT @SeekingAlpha: A Look At BlackBerry's Deals...            0   \n",
       "38  Jeff Bezos lost $7.4 billion in Amazon's worst...           21   \n",
       "39  Jeff Bezos lost $7.4 billion in #Amazon worst ...            1   \n",
       "\n",
       "    retweet_num  like_num ticker_symbol       date      time  \n",
       "2             0         0          AMZN 2015-01-01  00:01:50  \n",
       "27            0         2          AMZN 2015-01-01  00:26:09  \n",
       "37            0         0          AMZN 2015-01-01  00:47:17  \n",
       "38          139        57          AMZN 2015-01-01  00:49:05  \n",
       "39            2         1          AMZN 2015-01-01  00:50:10  "
      ]
     },
     "execution_count": 6,
     "metadata": {},
     "output_type": "execute_result"
    }
   ],
   "source": [
    "#get length of each company dataframe\n",
    "print(companies)\n",
    "for company in companies:\n",
    "    print(\"Number of\", company, \"tweets :\", len(companyDict[company]))\n",
    "    \n",
    "companyDict['AMZN'].head()"
   ]
  },
  {
   "cell_type": "code",
   "execution_count": 7,
   "metadata": {},
   "outputs": [
    {
     "name": "stdout",
     "output_type": "stream",
     "text": [
      "1262242    #Apple details its latest desktop operating sy...\n",
      "Name: body, dtype: object\n",
      "Jeff Bezos lost $7.4 billion in Amazon's worst year since 2008: http://on.wsj.com/1Acvuo6 $AMZN\n",
      "4232032    Prediction: Zach resigns before March.  $TSLA\n",
      "Name: body, dtype: object\n",
      "1368363    #Microsoft Half of qualified Malaysia based PC...\n",
      "Name: body, dtype: object\n",
      "1390660    RT MARC FABER: Divergence of $TSLA stock perfo...\n",
      "Name: body, dtype: object\n"
     ]
    }
   ],
   "source": [
    "#grab a random tweet from each to use as a test for the sentiment analysis\n",
    "apple_sample = companyDict['AAPL']['body'].sample()\n",
    "print(apple_sample.astype(str))\n",
    "amazon_sample = companyDict['AMZN']['body'][38]\n",
    "print(amazon_sample)\n",
    "tesla_sample = companyDict['TSLA'].sample()['body']\n",
    "print(tesla_sample.astype(str))\n",
    "microsoft_sample = companyDict['MSFT']['body'].sample()\n",
    "print(microsoft_sample.astype(str))\n",
    "google_sample = companyDict['GOOG']['body'].sample()\n",
    "print(google_sample.astype(str))"
   ]
  },
  {
   "cell_type": "code",
   "execution_count": 8,
   "metadata": {},
   "outputs": [
    {
     "name": "stdout",
     "output_type": "stream",
     "text": [
      "Jeff Bezos lost $7.4 billion in Amazon's worst year since 2008: http://on.wsj.com/1Acvuo6 $AMZN\n"
     ]
    },
    {
     "data": {
      "text/plain": [
       "{'neg': 0.368, 'neu': 0.632, 'pos': 0.0, 'compound': -0.7506}"
      ]
     },
     "execution_count": 8,
     "metadata": {},
     "output_type": "execute_result"
    }
   ],
   "source": [
    "# SentimentIntensityAnalyzer is a class. \n",
    "# You need to initialize an object of SentimentIntensityAnalyzer and call the polarity_scores() method on that.\n",
    "sia = SIA()\n",
    "testSentence = \"Tesla revenue ATH buy! all time high! =) cool\"\n",
    "print(amazon_sample)\n",
    "sia.polarity_scores(amazon_sample)"
   ]
  },
  {
   "cell_type": "code",
   "execution_count": 9,
   "metadata": {},
   "outputs": [],
   "source": [
    "# add to lexicon\n",
    "pos_csv_str='buy,bull,long,support,undervalued,underpriced,cheap,upward,rising,trend,moon,rocket,hold,breakout,call,beat,support,buying,holding,high,profit,ATH,all time high, =),cool,sick,to the moon,check it out!'\n",
    "neg_csv_str='sell,bear,bubble,bearish,short,overvalued,overbought,overpriced,expensive,downward,falling,sold,low,put,miss,resistance,squeeze,cover,seller,worst,terrible,losing,lost,bad,embarrased'\n",
    "\n",
    "dictPositive = { i : 4 for i in pos_csv_str.split(\",\") }\n",
    "dictNegative = { i : -4 for i in neg_csv_str.split(\",\") }\n",
    "add_lexicon = {**dictPositive, **dictNegative}\n",
    "# print(Financial_Lexicon)"
   ]
  },
  {
   "cell_type": "code",
   "execution_count": 10,
   "metadata": {},
   "outputs": [
    {
     "name": "stdout",
     "output_type": "stream",
     "text": [
      "Jeff Bezos lost $7.4 billion in Amazon's worst year since 2008: http://on.wsj.com/1Acvuo6 $AMZN\n"
     ]
    },
    {
     "data": {
      "text/plain": [
       "{'neg': 0.476, 'neu': 0.524, 'pos': 0.0, 'compound': -0.9001}"
      ]
     },
     "execution_count": 10,
     "metadata": {},
     "output_type": "execute_result"
    }
   ],
   "source": [
    "sia.lexicon.update(add_lexicon)\n",
    "print(amazon_sample)\n",
    "sia.polarity_scores(amazon_sample)"
   ]
  },
  {
   "cell_type": "code",
   "execution_count": 11,
   "metadata": {},
   "outputs": [],
   "source": [
    "#THIS CELL TAKES A LONG TIME TO RUN\n",
    "#for each company dataset, calculate sentiment for each tweet and label in a new column as sentiment = (positive-negative)\n",
    "apple_sentiments = []\n",
    "for tweet in companyDict['AAPL']['body']:\n",
    "    sentiment = sia.polarity_scores(tweet)\n",
    "    score = sentiment['pos'] - sentiment['neg']\n",
    "    apple_sentiments.append(score)\n",
    "    \n",
    "companyDict['AAPL']['sentiment'] = apple_sentiments\n",
    "\n",
    "amazon_sentiments = []\n",
    "for tweet in companyDict['AMZN']['body']:\n",
    "    sentiment = sia.polarity_scores(tweet)\n",
    "    score = sentiment['pos'] - sentiment['neg']\n",
    "    amazon_sentiments.append(score)\n",
    "    \n",
    "companyDict['AMZN']['sentiment'] = amazon_sentiments\n",
    "\n",
    "tesla_sentiments = []\n",
    "for tweet in companyDict['TSLA']['body']:\n",
    "    sentiment = sia.polarity_scores(tweet)\n",
    "    score = sentiment['pos'] - sentiment['neg']\n",
    "    tesla_sentiments.append(score)\n",
    "    \n",
    "companyDict['TSLA']['sentiment'] = tesla_sentiments\n",
    "\n",
    "microsoft_sentiments = []\n",
    "for tweet in companyDict['MSFT']['body']:\n",
    "    sentiment = sia.polarity_scores(tweet)\n",
    "    score = sentiment['pos'] - sentiment['neg']\n",
    "    microsoft_sentiments.append(score)\n",
    "    \n",
    "companyDict['MSFT']['sentiment'] = microsoft_sentiments\n",
    "\n",
    "google_sentiments = []\n",
    "for tweet in companyDict['GOOG']['body']:\n",
    "    sentiment = sia.polarity_scores(tweet)\n",
    "    score = sentiment['pos'] - sentiment['neg']\n",
    "    google_sentiments.append(score)\n",
    "    \n",
    "companyDict['GOOG']['sentiment'] = google_sentiments"
   ]
  },
  {
   "cell_type": "code",
   "execution_count": 12,
   "metadata": {
    "scrolled": false
   },
   "outputs": [
    {
     "data": {
      "text/plain": [
       "<AxesSubplot:title={'center':'Google Sentiment'}, xlabel='date'>"
      ]
     },
     "execution_count": 12,
     "metadata": {},
     "output_type": "execute_result"
    },
    {
     "data": {
      "image/png": "[encoded data removed]",
      "text/plain": [
       "<Figure size 432x288 with 1 Axes>"
      ]
     },
     "metadata": {
      "needs_background": "light"
     },
     "output_type": "display_data"
    },
    {
     "data": {
      "image/png": "[encoded data removed]",
      "text/plain": [
       "<Figure size 432x288 with 1 Axes>"
      ]
     },
     "metadata": {
      "needs_background": "light"
     },
     "output_type": "display_data"
    },
    {
     "data": {
      "image/png": "[encoded data removed]",
      "text/plain": [
       "<Figure size 432x288 with 1 Axes>"
      ]
     },
     "metadata": {
      "needs_background": "light"
     },
     "output_type": "display_data"
    },
    {
     "data": {
      "image/png": "[encoded data removed]",
      "text/plain": [
       "<Figure size 432x288 with 1 Axes>"
      ]
     },
     "metadata": {
      "needs_background": "light"
     },
     "output_type": "display_data"
    },
    {
     "data": {
      "image/png": "[encoded data removed]",
      "text/plain": [
       "<Figure size 432x288 with 1 Axes>"
      ]
     },
     "metadata": {
      "needs_background": "light"
     },
     "output_type": "display_data"
    }
   ],
   "source": [
    "#graph each companies sentiment over time\n",
    "companyDict['AAPL'].plot(x='date', y='sentiment',title='Apple Sentiment')\n",
    "companyDict['AMZN'].plot(x='date', y='sentiment',title='Amazon Sentiment')\n",
    "companyDict['TSLA'].plot(x='date', y='sentiment',title='Tesla Sentiment')\n",
    "companyDict['MSFT'].plot(x='date', y='sentiment',title='Microsoft Sentiment')\n",
    "companyDict['GOOG'].plot(x='date', y='sentiment',title='Google Sentiment')\n"
   ]
  },
  {
   "cell_type": "code",
   "execution_count": 36,
   "metadata": {},
   "outputs": [
    {
     "name": "stdout",
     "output_type": "stream",
     "text": [
      "           date                                               body      sent\n",
      "0    2015-01-01  [S&P100 #Stocks Performance $HD $LOW $SBUX $TG... -0.091088\n",
      "1    2015-01-02  [S&P100 #Stocks Performance $HD $LOW $SBUX $TG...  0.026933\n",
      "2    2015-01-03  [Amazon is bringing Amazon Prime to one of the...  0.047103\n",
      "3    2015-01-04  [What to expect from Apple in 2015 beyond its ...  0.054920\n",
      "4    2015-01-05  [Stock Contest!! Pick $ABX and WIN a FREE Tabl...  0.042016\n",
      "...         ...                                                ...       ...\n",
      "1821 2019-12-27  [$COST, can it get a little $AMZN type day goi...  0.095547\n",
      "1822 2019-12-28  [10-Year Performance of $NFLX $AMZN $GOOG $AAP...  0.083282\n",
      "1823 2019-12-29  [$SSFT growing rapidly w/ strategic acquisitio...  0.085497\n",
      "1824 2019-12-30  [$XLY weekly, consumer discretionary nice brea...  0.079637\n",
      "1825 2019-12-31  [$AMZN today calls traded twice as much as put...  0.081183\n",
      "\n",
      "[1826 rows x 3 columns]\n"
     ]
    }
   ],
   "source": [
    "#THIS CELL TAKES A BIT TO RUN\n",
    "#creating csv to use sentiment as a feature in stock prediction\n",
    "\n",
    "# #create data frame \n",
    "# amzn_sent = pd.DataFrame\n",
    "\n",
    "# #get unique list of dates\n",
    "# dates = companyDict['AMZN']['date'].unique()\n",
    "\n",
    "#group tweets by date\n",
    "grp = companyDict['AMZN'].groupby(['date'])\n",
    "grp = grp['body'].unique()\n",
    "grp = grp.reset_index()\n",
    "type(grp)\n",
    "\n",
    "#get average sentiment for each date\n",
    "avg_sents = []\n",
    "for tweets in grp['body']:\n",
    "    sum = 0\n",
    "    num = 0\n",
    "    for tweet in tweets:\n",
    "        sentiment = sia.polarity_scores(tweet)\n",
    "        score = sentiment['pos'] - sentiment['neg']\n",
    "        sum += score\n",
    "        num += 1\n",
    "    avg_sents.append(sum/num)\n",
    "grp['sent'] = avg_sents\n",
    "print(grp)\n",
    "\n",
    "# #write to csv\n",
    "# grp.to_csv('AMZN_avg_sent.csv', sep='\\t')"
   ]
  },
  {
   "cell_type": "code",
   "execution_count": 41,
   "metadata": {},
   "outputs": [
    {
     "name": "stdout",
     "output_type": "stream",
     "text": [
      "           date      sent\n",
      "0    2015-01-01 -0.091088\n",
      "1    2015-01-02  0.026933\n",
      "2    2015-01-03  0.047103\n",
      "3    2015-01-04  0.054920\n",
      "4    2015-01-05  0.042016\n",
      "...         ...       ...\n",
      "1821 2019-12-27  0.095547\n",
      "1822 2019-12-28  0.083282\n",
      "1823 2019-12-29  0.085497\n",
      "1824 2019-12-30  0.079637\n",
      "1825 2019-12-31  0.081183\n",
      "\n",
      "[1826 rows x 2 columns]\n"
     ]
    }
   ],
   "source": [
    "grp.drop('body', axis=1, inplace=True)\n",
    "print(grp)"
   ]
  },
  {
   "cell_type": "code",
   "execution_count": null,
   "metadata": {},
   "outputs": [],
   "source": [
    "grp.to_csv('AMZN_avg_sent.csv', sep='\\t')\n",
    "\n",
    "# to read\n",
    "#data = pd.read_csv(grp, sep=\" \")"
   ]
  },
  {
   "cell_type": "code",
   "execution_count": null,
   "metadata": {},
   "outputs": [],
   "source": [
    "cd ..\n"
   ]
  },
  {
   "cell_type": "code",
   "execution_count": null,
   "metadata": {
    "scrolled": true
   },
   "outputs": [],
   "source": [
    "ls"
   ]
  },
  {
   "cell_type": "code",
   "execution_count": null,
   "metadata": {},
   "outputs": [],
   "source": [
    "cd Stock_Market_Prediction"
   ]
  },
  {
   "cell_type": "code",
   "execution_count": null,
   "metadata": {},
   "outputs": [],
   "source": [
    "ls #checking the directory"
   ]
  },
  {
   "cell_type": "code",
   "execution_count": null,
   "metadata": {
    "scrolled": true
   },
   "outputs": [],
   "source": [
    "%run StockPrice_prediction.ipynb #running the stockprice prediction notebook to get the variables to show up here"
   ]
  },
  {
   "cell_type": "code",
   "execution_count": null,
   "metadata": {
    "scrolled": false
   },
   "outputs": [],
   "source": [
    "print(lnr_prediction) #seeing that the predictions have in fact come through\n",
    "print(SVM_prediction)"
   ]
  },
  {
   "cell_type": "code",
   "execution_count": null,
   "metadata": {},
   "outputs": [],
   "source": [
    "#we have to make the sentiment data have the same length and dimensions in order to run a correlation\n",
    "\n",
    "g = google_sentiments[:15]\n",
    "az = amazon_sentiments[:15]\n",
    "ts = tesla_sentiments[:15]\n",
    "ap = apple_sentiments[:15]\n",
    "mic = microsoft_sentiments[:15]\n",
    "\n",
    "print(\"SVM x sentiment correlations\\n\")\n",
    "r1 = np.corrcoef(g, SVM_prediction) \n",
    "print(r1)\n",
    "r2 = np.corrcoef(az, SVM_prediction)\n",
    "print(r2)\n",
    "r3 = np.corrcoef(ap, SVM_prediction)\n",
    "print(r3)\n",
    "r4 = np.corrcoef(ts, SVM_prediction)\n",
    "print(r4)\n",
    "r5 = np.corrcoef(mic, SVM_prediction)\n",
    "print(r5)\n",
    "\n",
    "print(\"lnr prediction x sentiment correlations\\n\")\n",
    "ra = np.corrcoef(g, lnr_prediction) \n",
    "print(r1)\n",
    "rb = np.corrcoef(az, lnr_prediction)\n",
    "print(r2)\n",
    "rc = np.corrcoef(ap, lnr_prediction)\n",
    "print(r3)\n",
    "rd = np.corrcoef(ts, lnr_prediction)\n",
    "print(r4)\n",
    "re = np.corrcoef(mic, lnr_prediction)\n",
    "print(r5)\n",
    "\n"
   ]
  },
  {
   "cell_type": "code",
   "execution_count": null,
   "metadata": {},
   "outputs": [],
   "source": [
    "# #creating csv to use sentiment as a feature in stock prediction\n",
    "\n",
    "# #create data frame \n",
    "# amzn_sent = pd.DataFrame\n",
    "\n",
    "# #get unique list of dates\n",
    "# dates = companyDict['AMZN']['date'].unique()\n",
    "\n",
    "# #group tweets by date\n",
    "# grp = companyDict['AMZN'].groupby(['date'])\n",
    "# grp = grp['body'].unique()\n",
    "# grp = grp.reset_index()\n",
    "# type(grp)\n",
    "\n",
    "# #get average sentiment for each date\n",
    "# avg_sents = []\n",
    "# for tweets in grp['body']:\n",
    "#     sum = 0\n",
    "#     num = 0\n",
    "#     for tweet in tweets:\n",
    "#         sentiment = sia.polarity_scores(tweet)\n",
    "#         score = sentiment['pos'] - sentiment['neg']\n",
    "#         sum += score\n",
    "#         num += 1\n",
    "#     avg_sents.append(sum/num)\n",
    "# grp['sent'] = avg_sents\n",
    "# print(grp)\n",
    "\n",
    "# #write to csv\n",
    "# grp.to_csv('AMZN_avg_sent.csv', sep='\\t')"
   ]
  },
  {
   "cell_type": "code",
   "execution_count": null,
   "metadata": {},
   "outputs": [],
   "source": []
  }
 ],
 "metadata": {
  "kernelspec": {
   "display_name": "Python 3",
   "language": "python",
   "name": "python3"
  },
  "language_info": {
   "codemirror_mode": {
    "name": "ipython",
    "version": 3
   },
   "file_extension": ".py",
   "mimetype": "text/x-python",
   "name": "python",
   "nbconvert_exporter": "python",
   "pygments_lexer": "ipython3",
   "version": "3.8.5"
  }
 },
 "nbformat": 4,
 "nbformat_minor": 2
}
