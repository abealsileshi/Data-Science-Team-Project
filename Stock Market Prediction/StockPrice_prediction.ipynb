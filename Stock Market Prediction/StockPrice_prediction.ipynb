{
 "cells": [
  {
   "cell_type": "code",
   "execution_count": 1,
   "metadata": {},
   "outputs": [
    {
     "name": "stdout",
     "output_type": "stream",
     "text": [
      "[SUCCESS]\n"
     ]
    }
   ],
   "source": [
    "import quandl #used to get financial data\n",
    "# https://www.quandl.com/tools/api\n",
    "import numpy as np\n",
    "from sklearn.linear_model import LinearRegression\n",
    "from sklearn.svm import SVR #uSED FOR SUPPORT VECTOR MACHINE -- REGRESSION\n",
    "from sklearn.model_selection import train_test_split\n",
    "print(\"[SUCCESS]\")"
   ]
  },
  {
   "cell_type": "code",
   "execution_count": 5,
   "metadata": {},
   "outputs": [
    {
     "name": "stdout",
     "output_type": "stream",
     "text": [
      "             Open   High    Low  Close     Volume  Ex-Dividend  Split Ratio  \\\n",
      "Date                                                                          \n",
      "1997-05-16  22.38  23.75  20.50  20.75  1225000.0          0.0          1.0   \n",
      "1997-05-19  20.50  21.25  19.50  20.50   508900.0          0.0          1.0   \n",
      "1997-05-20  20.75  21.00  19.63  19.63   455600.0          0.0          1.0   \n",
      "1997-05-21  19.25  19.75  16.50  17.13  1571100.0          0.0          1.0   \n",
      "1997-05-22  17.25  17.38  15.75  16.75   981400.0          0.0          1.0   \n",
      "\n",
      "            Adj. Open  Adj. High  Adj. Low  Adj. Close  Adj. Volume  \n",
      "Date                                                                 \n",
      "1997-05-16   1.865000   1.979167  1.708333    1.729167   14700000.0  \n",
      "1997-05-19   1.708333   1.770833  1.625000    1.708333    6106800.0  \n",
      "1997-05-20   1.729167   1.750000  1.635833    1.635833    5467200.0  \n",
      "1997-05-21   1.604167   1.645833  1.375000    1.427500   18853200.0  \n",
      "1997-05-22   1.437500   1.448333  1.312500    1.395833   11776800.0  \n"
     ]
    }
   ],
   "source": [
    "# We begin by getting our data stock -- AMAZON\n",
    "amazon_df = quandl.get('WIKI/AMZN')\n",
    "print(amazon_df.head())"
   ]
  },
  {
   "cell_type": "code",
   "execution_count": 6,
   "metadata": {},
   "outputs": [
    {
     "name": "stdout",
     "output_type": "stream",
     "text": [
      "            Adj. Close\n",
      "Date                  \n",
      "1997-05-16    1.729167\n",
      "1997-05-19    1.708333\n",
      "1997-05-20    1.635833\n",
      "1997-05-21    1.427500\n",
      "1997-05-22    1.395833\n"
     ]
    }
   ],
   "source": [
    "# Because we want to only use the closing price, we don't need to work with all the information\n",
    "# rewrite our df\n",
    "amazon_df = amazon_df[['Adj. Close']]\n",
    "print(df.head())"
   ]
  },
  {
   "cell_type": "code",
   "execution_count": 7,
   "metadata": {},
   "outputs": [
    {
     "name": "stdout",
     "output_type": "stream",
     "text": [
      "            Adj. Close  Stock Prediction\n",
      "Date                                    \n",
      "2018-03-21     1581.86               NaN\n",
      "2018-03-22     1544.10               NaN\n",
      "2018-03-23     1495.56               NaN\n",
      "2018-03-26     1555.86               NaN\n",
      "2018-03-27     1497.05               NaN\n"
     ]
    }
   ],
   "source": [
    "#With this, we can create a varaible to store our number of days to predict our stock prices, in this case lets do 15\n",
    "nday = 15 \n",
    "\n",
    "# BECAUSE WE ARE USING A PREDICTION ANALYSIS, WE CAN CREATE A NEW COLUMN TO STORE OUR TARGET PREDICTION\n",
    "amazon_df['Stock Prediction'] = amazon_df[['Adj. Close']].shift(-nday)\n",
    "\n",
    "print(amazon_df.tail())"
   ]
  },
  {
   "cell_type": "code",
   "execution_count": 8,
   "metadata": {},
   "outputs": [
    {
     "name": "stdout",
     "output_type": "stream",
     "text": [
      "[[   1.72916667]\n",
      " [   1.70833333]\n",
      " [   1.63583333]\n",
      " ...\n",
      " [1500.25      ]\n",
      " [1523.61      ]\n",
      " [1537.64      ]]\n"
     ]
    }
   ],
   "source": [
    "# NOW WE CAN CREATE A NEW *INDEPENDENT* DATASET THAT IS USED TO TRAIN FOR OUR RLINEAR REGRESSION MODEL\n",
    "x_data = np.array(amazon_df.drop(['Stock Prediction'], 1)) # CONVERTS DF --> NP ARRAY\n",
    "x_data = x_data[:-nday]\n",
    "print(x_data)"
   ]
  },
  {
   "cell_type": "code",
   "execution_count": 9,
   "metadata": {},
   "outputs": [
    {
     "name": "stdout",
     "output_type": "stream",
     "text": [
      "[1.68750000e+00 1.58333333e+00 1.54166667e+00 ... 1.49556000e+03\n",
      " 1.55586000e+03 1.49705000e+03]\n"
     ]
    }
   ],
   "source": [
    "# NOW WE CREATE A NEW *DEPENDENT* DATASET\n",
    "y_data = np.array(amazon_df['Stock Prediction'])\n",
    "\n",
    "# GET ALL OUR DATA EXCEPT OUR NDAY ROWS\n",
    "y_data = y_data[:-nday]\n",
    "\n",
    "print(y_data)"
   ]
  },
  {
   "cell_type": "code",
   "execution_count": 10,
   "metadata": {},
   "outputs": [],
   "source": [
    "# NOW THAT WE HAVE OUR INDEPENDENT AND DEPENDENT DATASETS, WE CAN SPLIT THE DATA TO TRAIN \n",
    "x_train, x_test, y_train, y_test = train_test_split(x_data, y_data, test_size = 0.2)"
   ]
  },
  {
   "cell_type": "code",
   "execution_count": 11,
   "metadata": {},
   "outputs": [
    {
     "data": {
      "text/plain": [
       "SVR(C=1000.0, gamma=0.1)"
      ]
     },
     "execution_count": 11,
     "metadata": {},
     "output_type": "execute_result"
    }
   ],
   "source": [
    "# FOR THIS MODEL, WE WILL BE USING SUPPORT VECTOR MACHINE -- REGRESSION\n",
    "# THIS IS A GOOD MODEL TO USE BECAUSE THE MODEL ATTEMPTS TO PREDICT A STOCK PRICE IN THE FUTURE\n",
    "# AFTER DOING MORE RESEARCH, IT WAS CLEAR THAT USING RBF AS OUR KERNEL, IT WOULD PROVIDE A BETTER OUTCOME\n",
    "# https://www.cs.princeton.edu/sites/default/files/uploads/saahil_madge.pdf\n",
    "svr_machine = SVR(kernel = 'rbf', C = 1e3, gamma = 0.1)\n",
    "svr_machine.fit(x_train, y_train)"
   ]
  },
  {
   "cell_type": "code",
   "execution_count": 12,
   "metadata": {},
   "outputs": [
    {
     "name": "stdout",
     "output_type": "stream",
     "text": [
      "SVM Confidence: 0.9325720241143853\n"
     ]
    }
   ],
   "source": [
    "# NOW WE CAN GET THE SCORE OF THE PREDICTION\n",
    "SVM_score = svr_machine.score(x_test, y_test)\n",
    "print(f\"SVM Confidence: {SVM_score}\")"
   ]
  },
  {
   "cell_type": "code",
   "execution_count": 13,
   "metadata": {},
   "outputs": [
    {
     "data": {
      "text/plain": [
       "LinearRegression()"
      ]
     },
     "execution_count": 13,
     "metadata": {},
     "output_type": "execute_result"
    }
   ],
   "source": [
    "#NOW WE CAN CREATE THE LINEAR REGRESSION MODEL\n",
    "lnr = LinearRegression()\n",
    "\n",
    "lnr.fit(x_train, y_train)"
   ]
  },
  {
   "cell_type": "code",
   "execution_count": 15,
   "metadata": {},
   "outputs": [
    {
     "name": "stdout",
     "output_type": "stream",
     "text": [
      "Linear Confidence: 0.9944187392466749\n"
     ]
    }
   ],
   "source": [
    "# GATHER MODEL'S SCORE\n",
    "lnr_confidence = lnr.score(x_test, y_test)\n",
    "print(f\"Linear Confidence: {lnr_confidence}\")"
   ]
  },
  {
   "cell_type": "code",
   "execution_count": 16,
   "metadata": {},
   "outputs": [
    {
     "name": "stdout",
     "output_type": "stream",
     "text": [
      "[[1545.  ]\n",
      " [1551.86]\n",
      " [1578.89]\n",
      " [1598.39]\n",
      " [1588.18]\n",
      " [1591.  ]\n",
      " [1582.32]\n",
      " [1571.68]\n",
      " [1544.93]\n",
      " [1586.51]\n",
      " [1581.86]\n",
      " [1544.1 ]\n",
      " [1495.56]\n",
      " [1555.86]\n",
      " [1497.05]]\n"
     ]
    }
   ],
   "source": [
    "#WITH BOTH MODELS DONE, WE CAN NOW CREATE OUR PREDICTIONS\n",
    "pred = np.array(amazon_df.drop(['Stock Prediction'], 1))[-nday:]\n",
    "print(pred)"
   ]
  },
  {
   "cell_type": "code",
   "execution_count": 26,
   "metadata": {},
   "outputs": [
    {
     "name": "stdout",
     "output_type": "stream",
     "text": [
      "Linear Regression Model Prediction Prices -- 15 days out\n",
      "Stock Price: $1590.4179367214256\n",
      "Stock Price: $1597.4865535748268\n",
      "Stock Price: $1625.3385526342195\n",
      "Stock Price: $1645.4315597247914\n",
      "Stock Price: $1634.911067294292\n",
      "Stock Price: $1637.8168252427745\n",
      "Stock Price: $1628.87286106092\n",
      "Stock Price: $1617.9092920638082\n",
      "Stock Price: $1590.3458079780235\n",
      "Stock Price: $1633.1902815588428\n",
      "Stock Price: $1628.3988721757064\n",
      "Stock Price: $1589.4905671633987\n",
      "Stock Price: $1539.4744356671754\n",
      "Stock Price: $1601.6081960549436\n",
      "Stock Price: $1541.009747491019\n",
      "\n",
      "Support Vector Machine (Regression) Prediction Prices -- 15 days out\n",
      "Stock Price: $680.0930486872135\n",
      "Stock Price: $676.4495139977995\n",
      "Stock Price: $676.4495126417371\n",
      "Stock Price: $676.4495126417371\n",
      "Stock Price: $676.4495126417371\n",
      "Stock Price: $676.4495126417371\n",
      "Stock Price: $676.4495126417371\n",
      "Stock Price: $676.4495126417371\n",
      "Stock Price: $680.4865239828938\n",
      "Stock Price: $676.4495126417371\n",
      "Stock Price: $676.4495126417371\n",
      "Stock Price: $689.0881003580276\n",
      "Stock Price: $767.2383215127381\n",
      "Stock Price: $676.4495126417403\n",
      "Stock Price: $970.6015983335494\n"
     ]
    }
   ],
   "source": [
    "# NOW PRINT THE STOCK PRICES FOR BOTH MODELS\n",
    "\n",
    "#LINEAR REGRESSION PREDICTION\n",
    "lnr_prediction = lnr.predict(pred)\n",
    "print('Linear Regression Model Prediction Prices -- 15 days out')\n",
    "for i in lnr_prediction:\n",
    "    print(f\"Stock Price: ${i}\")\n",
    "print()\n",
    "\n",
    "# SUPPORT VECTOR MACHINE PREDICTION\n",
    "SVM_prediction = svr_machine.predict(pred)\n",
    "print('Support Vector Machine (Regression) Prediction Prices -- 15 days out')\n",
    "for i in SVM_prediction:\n",
    "    print(f\"Stock Price: ${i}\")"
   ]
  },
  {
   "cell_type": "markdown",
   "metadata": {},
   "source": [
    "**RESOURCCES THAT HELPED ME**\n",
    "\n",
    "1. https://www.analyticsvidhya.com/blog/2017/09/understaing-support-vector-machine-example-code/\n",
    "2. https://towardsdatascience.com/introduction-to-linear-regression-in-python-c12a072bedf0\n",
    "3. https://www.quora.com/How-do-I-select-SVM-kernels\n",
    "4. https://www.cs.princeton.edu/sites/default/files/uploads/saahil_madge.pdf\n",
    "5. https://journalofbigdata.springeropen.com/articles/10.1186/s40537-020-00333-6\n",
    "6. https://www.researchgate.net/post/Diffference_between_SVM_Linear_polynmial_and_RBF_kernel\n",
    "\n"
   ]
  },
  {
   "cell_type": "code",
   "execution_count": null,
   "metadata": {},
   "outputs": [],
   "source": []
  }
 ],
 "metadata": {
  "kernelspec": {
   "display_name": "Python 3",
   "language": "python",
   "name": "python3"
  },
  "language_info": {
   "codemirror_mode": {
    "name": "ipython",
    "version": 3
   },
   "file_extension": ".py",
   "mimetype": "text/x-python",
   "name": "python",
   "nbconvert_exporter": "python",
   "pygments_lexer": "ipython3",
   "version": "3.8.5"
  }
 },
 "nbformat": 4,
 "nbformat_minor": 4
}
