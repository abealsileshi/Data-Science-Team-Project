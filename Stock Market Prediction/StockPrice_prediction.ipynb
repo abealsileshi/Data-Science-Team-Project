{
 "cells": [
  {
   "cell_type": "code",
   "execution_count": 30,
   "metadata": {},
   "outputs": [
    {
     "name": "stdout",
     "output_type": "stream",
     "text": [
      "[SUCCESS]\n"
     ]
    }
   ],
   "source": [
    "'''USING QUANDL TO GATHER FINANCIAL DATA\n",
    "    - https://www.quandl.com/tools/api'''\n",
    "import quandl\n",
    "\n",
    "'''LIBRARY NUMPY -- USED FOR MANIPULATING ARRAYS AND DATAFRAMES'''\n",
    "import numpy as np\n",
    "\n",
    "\n",
    "'''USING SKLEARN TO IMPORT MODELS AND TO TEST OUR DATA\n",
    "    - LINEAR MODEL --> LINEAR REGRESSION\n",
    "    - SUPPORT VECTOR MACHINE --> SUPPORT VECTOR REGRESSION\n",
    "    TRAIN TEST SPLIT --> TO TRAIN AND TEST DATA'''\n",
    "from sklearn.linear_model import LinearRegression \n",
    "from sklearn.svm import SVR \n",
    "from sklearn.model_selection import train_test_split\n",
    "\n",
    "\n",
    "\n",
    "print(\"[SUCCESS]\")"
   ]
  },
  {
   "cell_type": "code",
   "execution_count": 3,
   "metadata": {},
   "outputs": [
    {
     "name": "stdout",
     "output_type": "stream",
     "text": [
      "             Open   High    Low  Close     Volume  Ex-Dividend  Split Ratio  \\\n",
      "Date                                                                          \n",
      "1997-05-16  22.38  23.75  20.50  20.75  1225000.0          0.0          1.0   \n",
      "1997-05-19  20.50  21.25  19.50  20.50   508900.0          0.0          1.0   \n",
      "1997-05-20  20.75  21.00  19.63  19.63   455600.0          0.0          1.0   \n",
      "1997-05-21  19.25  19.75  16.50  17.13  1571100.0          0.0          1.0   \n",
      "1997-05-22  17.25  17.38  15.75  16.75   981400.0          0.0          1.0   \n",
      "\n",
      "            Adj. Open  Adj. High  Adj. Low  Adj. Close  Adj. Volume  \n",
      "Date                                                                 \n",
      "1997-05-16   1.865000   1.979167  1.708333    1.729167   14700000.0  \n",
      "1997-05-19   1.708333   1.770833  1.625000    1.708333    6106800.0  \n",
      "1997-05-20   1.729167   1.750000  1.635833    1.635833    5467200.0  \n",
      "1997-05-21   1.604167   1.645833  1.375000    1.427500   18853200.0  \n",
      "1997-05-22   1.437500   1.448333  1.312500    1.395833   11776800.0  \n"
     ]
    }
   ],
   "source": [
    "# We begin by getting our data stock -- AMAZON\n",
    "amazon_df = quandl.get('WIKI/AMZN')\n",
    "print(amazon_df.head())"
   ]
  },
  {
   "cell_type": "code",
   "execution_count": 4,
   "metadata": {},
   "outputs": [
    {
     "name": "stdout",
     "output_type": "stream",
     "text": [
      "            Adj. Close\n",
      "Date                  \n",
      "1997-05-16    1.729167\n",
      "1997-05-19    1.708333\n",
      "1997-05-20    1.635833\n",
      "1997-05-21    1.427500\n",
      "1997-05-22    1.395833\n"
     ]
    }
   ],
   "source": [
    "'''ONLY NEED CLOSING PRICE -- REWRITE OUR DATAFRAME TO FIT THOSE PARAMATERS'''\n",
    "\n",
    "amazon_df = amazon_df[['Adj. Close']]\n",
    "print(amazon_df.head())"
   ]
  },
  {
   "cell_type": "code",
   "execution_count": 9,
   "metadata": {},
   "outputs": [
    {
     "name": "stdout",
     "output_type": "stream",
     "text": [
      "Showing the amazon_df.head()\n",
      " \n",
      "             Adj. Close  Stock Prediction\n",
      "Date                                    \n",
      "1997-05-16    1.729167          1.687500\n",
      "1997-05-19    1.708333          1.583333\n",
      "1997-05-20    1.635833          1.541667\n",
      "1997-05-21    1.427500          1.604167\n",
      "1997-05-22    1.395833          1.583333\n",
      "\n",
      "Showing the amazon_df.tail()\n",
      " \n",
      "             Adj. Close  Stock Prediction\n",
      "Date                                    \n",
      "2018-03-21     1581.86               NaN\n",
      "2018-03-22     1544.10               NaN\n",
      "2018-03-23     1495.56               NaN\n",
      "2018-03-26     1555.86               NaN\n",
      "2018-03-27     1497.05               NaN\n"
     ]
    }
   ],
   "source": [
    "'''CREATE A VARIABLE TO STORE THE NUMBER OF DAYS OUT TO PREDICT\n",
    "    - FOR THIS WE USE 15 DAYS\n",
    "    - CAN BE CHANGED TO ANY AMOUNT'''\n",
    "nday = 15 \n",
    "\n",
    "'''SINCE WE ARE DOING A PREDICTIVE ANALYSIS, CREATE A NEW COLUMN TO STORE THE TARGET PREDICTION'''\n",
    "amazon_df['Stock Prediction'] = amazon_df[['Adj. Close']].shift(-nday)\n",
    "\n",
    "'''SHOW OUR DATAFRAME'''\n",
    "print(f\"Showing the amazon_df.head()\\n \\n {amazon_df.head()}\")\n",
    "print()\n",
    "print(f\"Showing the amazon_df.tail()\\n \\n {amazon_df.tail()}\")\n"
   ]
  },
  {
   "cell_type": "code",
   "execution_count": 10,
   "metadata": {},
   "outputs": [
    {
     "name": "stdout",
     "output_type": "stream",
     "text": [
      "Numpy Array \n",
      " [[   1.72916667]\n",
      " [   1.70833333]\n",
      " [   1.63583333]\n",
      " ...\n",
      " [1500.25      ]\n",
      " [1523.61      ]\n",
      " [1537.64      ]]\n"
     ]
    }
   ],
   "source": [
    "'''CREATE A NEW *INDEPENDENT* DATASET TO TRAIN LINEAR REGRESSION MODEL\n",
    "    1. CONVERT DATAFRAME TO NUMPY ARRAY USING ONLY Adj. Close COLUMN\n",
    "    2. REMOVE LAST N NUMBER OF ROWS'''\n",
    "#1.\n",
    "x_data = np.array(amazon_df.drop(['Stock Prediction'], 1))\n",
    "#2.\n",
    "x_data = x_data[:-nday]\n",
    "\n",
    "\n",
    "print(f\"Numpy Array \\n {x_data}\")"
   ]
  },
  {
   "cell_type": "code",
   "execution_count": 15,
   "metadata": {},
   "outputs": [
    {
     "name": "stdout",
     "output_type": "stream",
     "text": [
      "Target Data \n",
      " [1.68750000e+00 1.58333333e+00 1.54166667e+00 ... 1.49556000e+03\n",
      " 1.55586000e+03 1.49705000e+03]\n"
     ]
    }
   ],
   "source": [
    "'''CREATE THE NEW *DEPENDENT* DATASET -- AKA THE TARGET DATA\n",
    "    1. CONVERT DATAFRAME TO NUMPY ARRAY FROM Stock Prediction COLUMN\n",
    "    2. REMOVE THE LAST N NUMBER OF ROWS\n",
    "    3. MAKE SURE THERE ARE NO NaN VALUES'''\n",
    "#1\n",
    "y_data = np.array(amazon_df['Stock Prediction'])\n",
    "\n",
    "#2\n",
    "y_data = y_data[:-nday]\n",
    "\n",
    "#3\n",
    "print(f\"Target Data \\n {y_data}\")\n"
   ]
  },
  {
   "cell_type": "code",
   "execution_count": 16,
   "metadata": {},
   "outputs": [],
   "source": [
    "'''SET UP OUR TRAIN TEST SPLIT\n",
    "    - x_data, y_data --> datasets we are using\n",
    "    - test_size is split to 80% training and 20% testing'''\n",
    "\n",
    "'''TESTING DATA IS SET -- MOVE ON TO THE MODELS'''\n",
    "x_train, x_test, y_train, y_test = train_test_split(x_data, y_data, test_size = 0.2)"
   ]
  },
  {
   "cell_type": "code",
   "execution_count": 18,
   "metadata": {},
   "outputs": [
    {
     "data": {
      "text/plain": [
       "SVR(C=1000.0, gamma=0.1)"
      ]
     },
     "execution_count": 18,
     "metadata": {},
     "output_type": "execute_result"
    }
   ],
   "source": [
    "'''CREATE SUPPORT VECTOR MACHINE (REGRESSION) MODEL\n",
    "    - MODEL ATTEMPTS TO PREDICT A STOCK PRICE IN THE FUTURE\n",
    "    \n",
    "    1. USING 3 PARAMETERS\n",
    "        - KERNEL (TYPE OF MATHEMATICAL FUNCTION TO USE)\n",
    "            - USING RBF FOR THIS MODEL -- RADIAL BASIS FUNCTION -- GAUSSIAN FUNCTION\n",
    "            - https://scikit-learn.org/stable/modules/svm.html\n",
    "            - https://www.cs.princeton.edu/sites/default/files/uploads/saahil_madge.pdf\n",
    "            \n",
    "        - C\n",
    "            - HELPS WITH THE MISCLASSIFICATION OF TRAINING EXAMPLES\n",
    "            - CHOOSING A LOW INT CREATES A SMOOTH DECISION\n",
    "            - CHOOSING A HIGH INT CREATES THE CLASSIFICATION OF DATA MORE ACCURATELY\n",
    "            \n",
    "        - GAMMA\n",
    "            - DECIDING FACTOR OF HOW MUCH INFLUENCE A SINGLE TRAINING EXAMPLE HAS\n",
    "            \n",
    "        - USED THE FOLLOWING TO CORRECTLY CHOOSE A PROPER C AND GAMMA VALUES\n",
    "            - https://scikit-learn.org/stable/modules/generated/sklearn.model_selection.GridSearchCV.html#sklearn.model_selection.GridSearchCV\n",
    "        \n",
    "    2. THEN REFIT THE DATA WITH THE SVM MACHINE USING .fit()\n",
    "        - .fit(1, 2)\n",
    "            - 1 --> TRAINING VECTOR WHERE N SAMPLES IS THE NUMBER OF SAMPLES\n",
    "            - 2 --> TARGET IS RELATIVE TO X FOR REGRESSION\n",
    "            \n",
    "    '''\n",
    "\n",
    "#1\n",
    "svr_machine = SVR(kernel = 'rbf', C = 1e3, gamma = 0.1)\n",
    "\n",
    "#2\n",
    "svr_machine.fit(x_train, y_train)"
   ]
  },
  {
   "cell_type": "code",
   "execution_count": 22,
   "metadata": {},
   "outputs": [
    {
     "name": "stdout",
     "output_type": "stream",
     "text": [
      "SVM (Regression)  Confidence: 0.9698616099122792\n"
     ]
    }
   ],
   "source": [
    "'''GET THE SCORE OF THE SVM MODEL -- REGRESSION\n",
    "    1. SCORE Returns the coefficient of determination R^2 of the prediction.\n",
    "        - BEST POSSIBLE SCORE IS 1.0 -- CAN BE NEGATIVE\n",
    "        - .score(1, 2) PARAMETERS\n",
    "            - 1 --> TRAINING VECTOR WHERE N SAMPLES IS THE NUMBER OF SAMPLES\n",
    "            - 2 --> TARGET IS RELATIVE TO X FOR REGRESSION'''\n",
    "\n",
    "\n",
    "#1\n",
    "SVM_score = svr_machine.score(x_test, y_test)\n",
    "\n",
    "\n",
    "print(f\"SVM (Regression)  Confidence: {SVM_score}\")"
   ]
  },
  {
   "cell_type": "code",
   "execution_count": 23,
   "metadata": {},
   "outputs": [
    {
     "data": {
      "text/plain": [
       "LinearRegression()"
      ]
     },
     "execution_count": 23,
     "metadata": {},
     "output_type": "execute_result"
    }
   ],
   "source": [
    "'''1. CREATE LINEAR REGRESSION MODEL\n",
    "   2. TRAIN MODEL'''\n",
    "\n",
    "#1\n",
    "lnr = LinearRegression()\n",
    "\n",
    "#2\n",
    "lnr.fit(x_train, y_train)"
   ]
  },
  {
   "cell_type": "code",
   "execution_count": 27,
   "metadata": {},
   "outputs": [
    {
     "name": "stdout",
     "output_type": "stream",
     "text": [
      "Linear Confidence: 0.9950907863827594\n",
      "Since model score is so close to 1, it is better to predict the Amazon Stock price.\n"
     ]
    }
   ],
   "source": [
    "'''GET THE SCORE OF THE LINEAR REGRESSION MODEL\n",
    "        1. SCORE Returns the coefficient of determination R^2 of the prediction.\n",
    "        - BEST POSSIBLE SCORE IS 1.0 -- CAN BE NEGATIVE\n",
    "        - .score(1, 2) PARAMETERS\n",
    "            - 1 --> TRAINING VECTOR WHERE N SAMPLES IS THE NUMBER OF SAMPLES\n",
    "            - 2 --> TARGET IS RELATIVE TO X FOR REGRESSION'''\n",
    "\n",
    "#1\n",
    "lnr_confidence = lnr.score(x_test, y_test)\n",
    "\n",
    "\n",
    "\n",
    "print(f\"Linear Confidence: {lnr_confidence}\")\n",
    "print('Since model score is so close to 1, it is better to predict the Amazon Stock price.')"
   ]
  },
  {
   "cell_type": "code",
   "execution_count": 28,
   "metadata": {},
   "outputs": [
    {
     "name": "stdout",
     "output_type": "stream",
     "text": [
      "[[1545.  ]\n",
      " [1551.86]\n",
      " [1578.89]\n",
      " [1598.39]\n",
      " [1588.18]\n",
      " [1591.  ]\n",
      " [1582.32]\n",
      " [1571.68]\n",
      " [1544.93]\n",
      " [1586.51]\n",
      " [1581.86]\n",
      " [1544.1 ]\n",
      " [1495.56]\n",
      " [1555.86]\n",
      " [1497.05]]\n"
     ]
    }
   ],
   "source": [
    "'''MODELS ARE TRAINED AND TESTED -- TIME FOR PREDICTIONS\n",
    "\n",
    "    1. CREATE A NEW NUMPY ARRAY BY DROPPING THE STOCK PREDICTION AND ADDING IN OUR N DAYS OUT FROM THE BEGINNING\n",
    "    2. PRED\n",
    "        - DATA TO BE USED TO MAKE PREDICTIONS\n",
    "\n",
    "    '''\n",
    "#1\n",
    "pred = np.array(amazon_df.drop(['Stock Prediction'], 1))[-nday:]\n",
    "\n",
    "\n",
    "\n",
    "\n",
    "print(pred)"
   ]
  },
  {
   "cell_type": "code",
   "execution_count": 32,
   "metadata": {},
   "outputs": [
    {
     "name": "stdout",
     "output_type": "stream",
     "text": [
      "Linear Regression Model Prediction Prices -- 15 days out\n",
      "Stock Price: $1591.9721209682748\n",
      "Stock Price: $1599.0484922853348\n",
      "Stock Price: $1626.9310457401662\n",
      "Stock Price: $1647.0460954023638\n",
      "Stock Price: $1636.5140617074385\n",
      "Stock Price: $1639.4230073508947\n",
      "Stock Price: $1630.4692313986961\n",
      "Stock Price: $1619.4936350701946\n",
      "Stock Price: $1591.8999130976927\n",
      "Stock Price: $1634.791388223548\n",
      "Stock Price: $1629.9947225348697\n",
      "Stock Price: $1591.0437340607887\n",
      "Stock Price: $1540.9727335170414\n",
      "Stock Price: $1603.1746563186061\n",
      "Stock Price: $1542.509729619435\n",
      "\n",
      "Support Vector Machine (Regression) Prediction Prices -- 15 days out\n",
      "Stock Price: $695.9695210831736\n",
      "Stock Price: $692.3968047447939\n",
      "Stock Price: $692.3968034150889\n",
      "Stock Price: $692.3968034150889\n",
      "Stock Price: $692.3968034150889\n",
      "Stock Price: $692.3968034150889\n",
      "Stock Price: $692.3968034150889\n",
      "Stock Price: $692.3968034150889\n",
      "Stock Price: $696.3553485110584\n",
      "Stock Price: $692.3968034150889\n",
      "Stock Price: $692.3968034150889\n",
      "Stock Price: $704.7897384842205\n",
      "Stock Price: $1347.5472716583163\n",
      "Stock Price: $692.396803415092\n",
      "Stock Price: $1269.5917346200545\n"
     ]
    }
   ],
   "source": [
    "'''PRINT PREDICTIONS FOR BOTH MODELS USING .predict()\n",
    "    - THIS WILL PERFORM CLASSIFICATION ON SAMPLES IN OUR X_DATA'''\n",
    "\n",
    "'''LINEAR REGRESSION PREDICTION'''\n",
    "lnr_prediction = lnr.predict(pred)\n",
    "print('Linear Regression Model Prediction Prices -- 15 days out')\n",
    "for i in lnr_prediction:\n",
    "    print(f\"Stock Price: ${i}\")\n",
    "print()\n",
    "\n",
    "'''SUPPORT VECTOR MACHINE PREDICTION'''\n",
    "SVM_prediction = svr_machine.predict(pred)\n",
    "print('Support Vector Machine (Regression) Prediction Prices -- 15 days out')\n",
    "for i in SVM_prediction:\n",
    "    print(f\"Stock Price: ${i}\")"
   ]
  },
  {
   "cell_type": "markdown",
   "metadata": {},
   "source": [
    "**RESOURCCES THAT HELPED ME**\n",
    "\n",
    "1. https://www.analyticsvidhya.com/blog/2017/09/understaing-support-vector-machine-example-code/\n",
    "2. https://towardsdatascience.com/introduction-to-linear-regression-in-python-c12a072bedf0\n",
    "3. https://www.quora.com/How-do-I-select-SVM-kernels\n",
    "4. https://www.cs.princeton.edu/sites/default/files/uploads/saahil_madge.pdf\n",
    "5. https://journalofbigdata.springeropen.com/articles/10.1186/s40537-020-00333-6\n",
    "6. https://www.researchgate.net/post/Diffference_between_SVM_Linear_polynmial_and_RBF_kernel\n",
    "7. https://scikit-learn.org/stable/modules/generated/sklearn.model_selection.GridSearchCV.html#sklearn.model_selection.GridSearchCV\n",
    "8. https://scikit-learn.org/stable/modules/svm.html\n",
    "\n"
   ]
  },
  {
   "cell_type": "code",
   "execution_count": null,
   "metadata": {},
   "outputs": [],
   "source": []
  }
 ],
 "metadata": {
  "kernelspec": {
   "display_name": "Python 3",
   "language": "python",
   "name": "python3"
  },
  "language_info": {
   "codemirror_mode": {
    "name": "ipython",
    "version": 3
   },
   "file_extension": ".py",
   "mimetype": "text/x-python",
   "name": "python",
   "nbconvert_exporter": "python",
   "pygments_lexer": "ipython3",
   "version": "3.8.5"
  }
 },
 "nbformat": 4,
 "nbformat_minor": 4
}
