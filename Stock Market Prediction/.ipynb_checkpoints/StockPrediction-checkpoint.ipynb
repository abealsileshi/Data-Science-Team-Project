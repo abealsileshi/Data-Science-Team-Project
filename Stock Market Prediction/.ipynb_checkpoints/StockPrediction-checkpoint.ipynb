{
 "cells": [
  {
   "cell_type": "code",
   "execution_count": 84,
   "metadata": {
    "id": "9ezDPfFpjY-5"
   },
   "outputs": [],
   "source": [
    "import requests\n",
    "import datetime as dt\n",
    "import pandas as pd\n",
    "from sklearn.model_selection import train_test_split"
   ]
  },
  {
   "cell_type": "markdown",
   "metadata": {
    "id": "J7WRs21ijctL"
   },
   "source": [
    "Edit tickers, target and datetime is necessary."
   ]
  },
  {
   "cell_type": "code",
   "execution_count": 85,
   "metadata": {
    "colab": {
     "base_uri": "https://localhost:8080/",
     "height": 235
    },
    "id": "DMG0ofgDhpNf",
    "outputId": "d7a0aaba-b78d-48f5-dbf8-75e6fc315a30"
   },
   "outputs": [
    {
     "data": {
      "text/html": [
       "<div>\n",
       "<style scoped>\n",
       "    .dataframe tbody tr th:only-of-type {\n",
       "        vertical-align: middle;\n",
       "    }\n",
       "\n",
       "    .dataframe tbody tr th {\n",
       "        vertical-align: top;\n",
       "    }\n",
       "\n",
       "    .dataframe thead th {\n",
       "        text-align: right;\n",
       "    }\n",
       "</style>\n",
       "<table border=\"1\" class=\"dataframe\">\n",
       "  <thead>\n",
       "    <tr style=\"text-align: right;\">\n",
       "      <th></th>\n",
       "      <th>AAPL</th>\n",
       "      <th>TSLA</th>\n",
       "      <th>GOOG</th>\n",
       "      <th>TWTR</th>\n",
       "    </tr>\n",
       "    <tr>\n",
       "      <th>Date</th>\n",
       "      <th></th>\n",
       "      <th></th>\n",
       "      <th></th>\n",
       "      <th></th>\n",
       "    </tr>\n",
       "  </thead>\n",
       "  <tbody>\n",
       "    <tr>\n",
       "      <th>2015-01-02</th>\n",
       "      <td>24.861401</td>\n",
       "      <td>43.862000</td>\n",
       "      <td>523.373108</td>\n",
       "      <td>36.560001</td>\n",
       "    </tr>\n",
       "    <tr>\n",
       "      <th>2015-01-05</th>\n",
       "      <td>24.161013</td>\n",
       "      <td>42.018002</td>\n",
       "      <td>512.463013</td>\n",
       "      <td>36.380001</td>\n",
       "    </tr>\n",
       "    <tr>\n",
       "      <th>2015-01-06</th>\n",
       "      <td>24.163294</td>\n",
       "      <td>42.256001</td>\n",
       "      <td>500.585632</td>\n",
       "      <td>38.759998</td>\n",
       "    </tr>\n",
       "    <tr>\n",
       "      <th>2015-01-07</th>\n",
       "      <td>24.502111</td>\n",
       "      <td>42.189999</td>\n",
       "      <td>499.727997</td>\n",
       "      <td>37.279999</td>\n",
       "    </tr>\n",
       "    <tr>\n",
       "      <th>2015-01-08</th>\n",
       "      <td>25.443539</td>\n",
       "      <td>42.124001</td>\n",
       "      <td>501.303680</td>\n",
       "      <td>39.090000</td>\n",
       "    </tr>\n",
       "  </tbody>\n",
       "</table>\n",
       "</div>"
      ],
      "text/plain": [
       "                 AAPL       TSLA        GOOG       TWTR\n",
       "Date                                                   \n",
       "2015-01-02  24.861401  43.862000  523.373108  36.560001\n",
       "2015-01-05  24.161013  42.018002  512.463013  36.380001\n",
       "2015-01-06  24.163294  42.256001  500.585632  38.759998\n",
       "2015-01-07  24.502111  42.189999  499.727997  37.279999\n",
       "2015-01-08  25.443539  42.124001  501.303680  39.090000"
      ]
     },
     "execution_count": 85,
     "metadata": {
      "tags": []
     },
     "output_type": "execute_result"
    }
   ],
   "source": [
    "tickers = ['AMZN', 'AAPL', 'TSLA', 'GOOG', 'TWTR'] \n",
    "target = 'AMZN'\n",
    "start = dt.datetime(2015, 1, 1)\n",
    "end = dt.datetime(2021, 1, 1)\n",
    "\n",
    "main_df = pd.DataFrame\n",
    "for ticker in tickers:\n",
    "  if ticker not in target: \n",
    "    df = web.DataReader(ticker, 'yahoo', start, end)\n",
    "    df = df[['Adj Close']]\n",
    "    df.rename(columns={'Adj Close': ticker}, inplace=True)\n",
    "    if main_df.empty: \n",
    "      main_df = df\n",
    "    else: \n",
    "      main_df = main_df.join(df, how='outer')\n",
    "\n",
    "main_df.head()"
   ]
  },
  {
   "cell_type": "markdown",
   "metadata": {
    "id": "Pw4mi5OyseP-"
   },
   "source": [
    "Now we create and select our features for our target stock.\n",
    "\n",
    "Features stored/created:\n",
    "\n",
    "* Adjusted Close\t\n",
    "* Moving average\t\n",
    "* Increase in volume\t\n",
    "* Increase in adjusted close\n"
   ]
  },
  {
   "cell_type": "code",
   "execution_count": 86,
   "metadata": {
    "id": "hlssLHRenT1S"
   },
   "outputs": [],
   "source": [
    "target_df = web.DataReader(target, 'yahoo', start, end)\n",
    "\n",
    "#calculate the moving average for a feature\n",
    "target_df['Moving_av'] = target_df['Adj Close'].rolling(window=50, min_periods=0).mean()\n",
    "\n",
    "#Calculate the rate of increase in volume and rate of increase in adjusted close \n",
    "i = 1\n",
    "rate_increase_in_vol = [0]\n",
    "rate_increase_in_adj_close = [0]\n",
    "\n",
    "while i < len(target_df):\n",
    "    rate_increase_in_vol.append(target_df.iloc[i]['Volume']-target_df.iloc[i - 1]['Volume'])\n",
    "    rate_increase_in_adj_close.append(target_df.iloc[i]['Adj Close']-target_df.iloc[i - 1]['Adj Close'])\n",
    "    i += 1\n",
    "\n",
    "target_df['Increase_in_vol'] = rate_increase_in_vol\n",
    "target_df['Increase_in_adj_close'] = rate_increase_in_adj_close    "
   ]
  },
  {
   "cell_type": "markdown",
   "metadata": {
    "id": "Z7S3XI3onfzR"
   },
   "source": [
    "Execute to join the target stock's features with the other tickers specified earlier."
   ]
  },
  {
   "cell_type": "code",
   "execution_count": 87,
   "metadata": {
    "id": "v-196wmKuGTP"
   },
   "outputs": [],
   "source": [
    "main_df = main_df.join(target_df, how='outer')"
   ]
  },
  {
   "cell_type": "markdown",
   "metadata": {
    "id": "-YIzkMESnwwF"
   },
   "source": [
    "Execute to convert data into a numpy array, and split it between the train and test data. And to set the predicition labels, the y-values, as the 'Open' value for the target stock.\n",
    "\n"
   ]
  },
  {
   "cell_type": "code",
   "execution_count": 88,
   "metadata": {
    "id": "3JNEr3x7oFUs"
   },
   "outputs": [],
   "source": [
    "y = main_df[['Open']]\n",
    "y = y.to_numpy()\n",
    "X = main_df.drop(['Open'], axis=1)\n",
    "X = X.to_numpy()\n",
    "# data = main_df.to_numpy()\n",
    "X_train, X_test, y_train, y_test = train_test_split(X, y, test_size=.3)"
   ]
  },
  {
   "cell_type": "markdown",
   "metadata": {
    "id": "WbvVZe0YvX1G"
   },
   "source": [
    "# Model time!"
   ]
  },
  {
   "cell_type": "code",
   "execution_count": 89,
   "metadata": {
    "id": "QFrR3euMu8E3"
   },
   "outputs": [],
   "source": [
    "import tensorflow as tf\n",
    "from keras.models import Sequential"
   ]
  },
  {
   "cell_type": "markdown",
   "metadata": {
    "id": "R1FcEFDAxjO1"
   },
   "source": [
    "Where we can play around with the layers, and activation functions"
   ]
  },
  {
   "cell_type": "code",
   "execution_count": 90,
   "metadata": {
    "id": "AmY0FkVuvhQw"
   },
   "outputs": [],
   "source": [
    "N,D = X.shape\n",
    "\n",
    "model = Sequential([\n",
    "    tf.keras.layers.InputLayer((D,)),\n",
    "    #layer1\n",
    "    #layer2\n",
    "    #....\n",
    "\n",
    "\n",
    "    #layer L\n",
    "    tf.keras.layers.Dense(1, activation='sigmoid'),\n",
    "])"
   ]
  },
  {
   "cell_type": "code",
   "execution_count": null,
   "metadata": {
    "id": "YCbLMhbgwX-b"
   },
   "outputs": [],
   "source": []
  }
 ],
 "metadata": {
  "colab": {
   "collapsed_sections": [],
   "name": "StockPrediction.ipynb",
   "provenance": []
  },
  "kernelspec": {
   "display_name": "Python 3",
   "language": "python",
   "name": "python3"
  },
  "language_info": {
   "codemirror_mode": {
    "name": "ipython",
    "version": 3
   },
   "file_extension": ".py",
   "mimetype": "text/x-python",
   "name": "python",
   "nbconvert_exporter": "python",
   "pygments_lexer": "ipython3",
   "version": "3.8.5"
  }
 },
 "nbformat": 4,
 "nbformat_minor": 1
}
