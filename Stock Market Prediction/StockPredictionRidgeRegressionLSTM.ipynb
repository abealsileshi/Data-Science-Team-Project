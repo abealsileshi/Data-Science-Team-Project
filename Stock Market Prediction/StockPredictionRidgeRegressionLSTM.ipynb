{
 "cells": [
  {
   "cell_type": "code",
   "execution_count": 1,
   "metadata": {
    "id": "9ezDPfFpjY-5"
   },
   "outputs": [],
   "source": [
    "import requests\n",
    "import datetime as dt\n",
    "import matplotlib.pyplot as plt\n",
    "import pandas as pd\n",
    "from sklearn.model_selection import train_test_split\n",
    "import pandas_datareader.data as web\n",
    "import numpy as np"
   ]
  },
  {
   "cell_type": "markdown",
   "metadata": {
    "id": "J7WRs21ijctL"
   },
   "source": [
    "Edit tickers, target and datetime is necessary."
   ]
  },
  {
   "cell_type": "code",
   "execution_count": 2,
   "metadata": {
    "colab": {
     "base_uri": "https://localhost:8080/",
     "height": 235
    },
    "id": "DMG0ofgDhpNf",
    "outputId": "d7a0aaba-b78d-48f5-dbf8-75e6fc315a30"
   },
   "outputs": [
    {
     "data": {
      "text/html": [
       "<div>\n",
       "<style scoped>\n",
       "    .dataframe tbody tr th:only-of-type {\n",
       "        vertical-align: middle;\n",
       "    }\n",
       "\n",
       "    .dataframe tbody tr th {\n",
       "        vertical-align: top;\n",
       "    }\n",
       "\n",
       "    .dataframe thead th {\n",
       "        text-align: right;\n",
       "    }\n",
       "</style>\n",
       "<table border=\"1\" class=\"dataframe\">\n",
       "  <thead>\n",
       "    <tr style=\"text-align: right;\">\n",
       "      <th></th>\n",
       "      <th>Date</th>\n",
       "      <th>AAPL</th>\n",
       "      <th>AMZN</th>\n",
       "      <th>TSLA</th>\n",
       "      <th>GOOG</th>\n",
       "      <th>TWTR</th>\n",
       "      <th>^GSPC</th>\n",
       "    </tr>\n",
       "  </thead>\n",
       "  <tbody>\n",
       "    <tr>\n",
       "      <th>0</th>\n",
       "      <td>2015-01-02</td>\n",
       "      <td>24.861401</td>\n",
       "      <td>308.519989</td>\n",
       "      <td>43.862000</td>\n",
       "      <td>523.373108</td>\n",
       "      <td>36.560001</td>\n",
       "      <td>2058.199951</td>\n",
       "    </tr>\n",
       "    <tr>\n",
       "      <th>1</th>\n",
       "      <td>2015-01-05</td>\n",
       "      <td>24.161013</td>\n",
       "      <td>302.190002</td>\n",
       "      <td>42.018002</td>\n",
       "      <td>512.463013</td>\n",
       "      <td>36.380001</td>\n",
       "      <td>2020.579956</td>\n",
       "    </tr>\n",
       "    <tr>\n",
       "      <th>2</th>\n",
       "      <td>2015-01-06</td>\n",
       "      <td>24.163294</td>\n",
       "      <td>295.290009</td>\n",
       "      <td>42.256001</td>\n",
       "      <td>500.585632</td>\n",
       "      <td>38.759998</td>\n",
       "      <td>2002.609985</td>\n",
       "    </tr>\n",
       "    <tr>\n",
       "      <th>3</th>\n",
       "      <td>2015-01-07</td>\n",
       "      <td>24.502111</td>\n",
       "      <td>298.420013</td>\n",
       "      <td>42.189999</td>\n",
       "      <td>499.727997</td>\n",
       "      <td>37.279999</td>\n",
       "      <td>2025.900024</td>\n",
       "    </tr>\n",
       "    <tr>\n",
       "      <th>4</th>\n",
       "      <td>2015-01-08</td>\n",
       "      <td>25.443539</td>\n",
       "      <td>300.459991</td>\n",
       "      <td>42.124001</td>\n",
       "      <td>501.303680</td>\n",
       "      <td>39.090000</td>\n",
       "      <td>2062.139893</td>\n",
       "    </tr>\n",
       "  </tbody>\n",
       "</table>\n",
       "</div>"
      ],
      "text/plain": [
       "        Date       AAPL        AMZN       TSLA        GOOG       TWTR  \\\n",
       "0 2015-01-02  24.861401  308.519989  43.862000  523.373108  36.560001   \n",
       "1 2015-01-05  24.161013  302.190002  42.018002  512.463013  36.380001   \n",
       "2 2015-01-06  24.163294  295.290009  42.256001  500.585632  38.759998   \n",
       "3 2015-01-07  24.502111  298.420013  42.189999  499.727997  37.279999   \n",
       "4 2015-01-08  25.443539  300.459991  42.124001  501.303680  39.090000   \n",
       "\n",
       "         ^GSPC  \n",
       "0  2058.199951  \n",
       "1  2020.579956  \n",
       "2  2002.609985  \n",
       "3  2025.900024  \n",
       "4  2062.139893  "
      ]
     },
     "execution_count": 2,
     "metadata": {},
     "output_type": "execute_result"
    }
   ],
   "source": [
    "tickers = ['AAPL', 'AMZN', 'TSLA', 'GOOG', 'TWTR', '^GSPC'] \n",
    "target = ''\n",
    "start = dt.datetime(2015, 1, 1)\n",
    "end = dt.datetime.now()\n",
    "#end = dt.datetime(2021, 1, 1)\n",
    "\n",
    "main_df = pd.DataFrame\n",
    "for ticker in tickers:\n",
    "  if ticker not in target: \n",
    "    df = web.DataReader(ticker, 'yahoo', start, end)\n",
    "    df = df[['Adj Close']]\n",
    "    df.rename(columns={'Adj Close': ticker}, inplace=True)\n",
    "    if main_df.empty: \n",
    "      main_df = df\n",
    "    else: \n",
    "      main_df = main_df.join(df, how='outer')\n",
    "\n",
    "price_df = main_df\n",
    "price_df.reset_index(level=0,inplace=True)\n",
    "price_df.head()"
   ]
  },
  {
   "cell_type": "code",
   "execution_count": 3,
   "metadata": {},
   "outputs": [
    {
     "data": {
      "text/html": [
       "<div>\n",
       "<style scoped>\n",
       "    .dataframe tbody tr th:only-of-type {\n",
       "        vertical-align: middle;\n",
       "    }\n",
       "\n",
       "    .dataframe tbody tr th {\n",
       "        vertical-align: top;\n",
       "    }\n",
       "\n",
       "    .dataframe thead th {\n",
       "        text-align: right;\n",
       "    }\n",
       "</style>\n",
       "<table border=\"1\" class=\"dataframe\">\n",
       "  <thead>\n",
       "    <tr style=\"text-align: right;\">\n",
       "      <th></th>\n",
       "      <th>Date</th>\n",
       "      <th>AAPL</th>\n",
       "      <th>AMZN</th>\n",
       "      <th>TSLA</th>\n",
       "      <th>GOOG</th>\n",
       "      <th>TWTR</th>\n",
       "      <th>^GSPC</th>\n",
       "    </tr>\n",
       "  </thead>\n",
       "  <tbody>\n",
       "    <tr>\n",
       "      <th>0</th>\n",
       "      <td>2015-01-02</td>\n",
       "      <td>212818400.0</td>\n",
       "      <td>2783200</td>\n",
       "      <td>23822000.0</td>\n",
       "      <td>1447563.0</td>\n",
       "      <td>12062500</td>\n",
       "      <td>2708700000</td>\n",
       "    </tr>\n",
       "    <tr>\n",
       "      <th>1</th>\n",
       "      <td>2015-01-05</td>\n",
       "      <td>257142000.0</td>\n",
       "      <td>2774200</td>\n",
       "      <td>26842500.0</td>\n",
       "      <td>2059840.0</td>\n",
       "      <td>15062700</td>\n",
       "      <td>3799120000</td>\n",
       "    </tr>\n",
       "    <tr>\n",
       "      <th>2</th>\n",
       "      <td>2015-01-06</td>\n",
       "      <td>263188400.0</td>\n",
       "      <td>3519000</td>\n",
       "      <td>31309500.0</td>\n",
       "      <td>2899940.0</td>\n",
       "      <td>33050800</td>\n",
       "      <td>4460110000</td>\n",
       "    </tr>\n",
       "    <tr>\n",
       "      <th>3</th>\n",
       "      <td>2015-01-07</td>\n",
       "      <td>160423600.0</td>\n",
       "      <td>2640300</td>\n",
       "      <td>14842000.0</td>\n",
       "      <td>2065054.0</td>\n",
       "      <td>22675700</td>\n",
       "      <td>3805480000</td>\n",
       "    </tr>\n",
       "    <tr>\n",
       "      <th>4</th>\n",
       "      <td>2015-01-08</td>\n",
       "      <td>237458000.0</td>\n",
       "      <td>3088400</td>\n",
       "      <td>17212500.0</td>\n",
       "      <td>3353582.0</td>\n",
       "      <td>19190400</td>\n",
       "      <td>3934010000</td>\n",
       "    </tr>\n",
       "  </tbody>\n",
       "</table>\n",
       "</div>"
      ],
      "text/plain": [
       "        Date         AAPL     AMZN        TSLA       GOOG      TWTR  \\\n",
       "0 2015-01-02  212818400.0  2783200  23822000.0  1447563.0  12062500   \n",
       "1 2015-01-05  257142000.0  2774200  26842500.0  2059840.0  15062700   \n",
       "2 2015-01-06  263188400.0  3519000  31309500.0  2899940.0  33050800   \n",
       "3 2015-01-07  160423600.0  2640300  14842000.0  2065054.0  22675700   \n",
       "4 2015-01-08  237458000.0  3088400  17212500.0  3353582.0  19190400   \n",
       "\n",
       "        ^GSPC  \n",
       "0  2708700000  \n",
       "1  3799120000  \n",
       "2  4460110000  \n",
       "3  3805480000  \n",
       "4  3934010000  "
      ]
     },
     "execution_count": 3,
     "metadata": {},
     "output_type": "execute_result"
    }
   ],
   "source": [
    "tickers = ['AAPL', 'AMZN', 'TSLA', 'GOOG', 'TWTR', '^GSPC'] \n",
    "target = ''\n",
    "start = dt.datetime(2015, 1, 1)\n",
    "end = dt.datetime.now()\n",
    "#end = dt.datetime(2021, 1, 1)\n",
    "\n",
    "main_df = pd.DataFrame\n",
    "for ticker in tickers:\n",
    "  if ticker not in target: \n",
    "    df = web.DataReader(ticker, 'yahoo', start, end)\n",
    "    df = df[['Volume']]\n",
    "    df.rename(columns={'Volume': ticker}, inplace=True)\n",
    "    if main_df.empty: \n",
    "      main_df = df\n",
    "    else: \n",
    "      main_df = main_df.join(df, how='outer')\n",
    "\n",
    "main_df.head()\n",
    "\n",
    "volume_df = main_df\n",
    "volume_df.reset_index(level=0, inplace=True)\n",
    "volume_df.head()"
   ]
  },
  {
   "cell_type": "markdown",
   "metadata": {},
   "source": [
    "# Ridge Regression\n",
    "Predict future price using previous prices and volume\n",
    "\n",
    "\n",
    "Ridge Regression works by avoiding overfitting and helps by adjusting weights or biases to improve generalization "
   ]
  },
  {
   "cell_type": "code",
   "execution_count": 4,
   "metadata": {},
   "outputs": [],
   "source": [
    "import pandas as pd\n",
    "import plotly.express as px\n",
    "from copy import copy\n",
    "from scipy import stats\n",
    "import matplotlib.pyplot as plt\n",
    "import numpy as np\n",
    "import plotly.figure_factory as ff\n",
    "from sklearn.linear_model import LinearRegression\n",
    "from sklearn.svm import SVR\n",
    "from sklearn.model_selection import train_test_split\n",
    "from sklearn.metrics import r2_score\n",
    "from tensorflow import keras\n",
    "import os"
   ]
  },
  {
   "cell_type": "code",
   "execution_count": 5,
   "metadata": {},
   "outputs": [
    {
     "name": "stdout",
     "output_type": "stream",
     "text": [
      "<class 'pandas.core.frame.DataFrame'>\n",
      "RangeIndex: 1583 entries, 0 to 1582\n",
      "Data columns (total 7 columns):\n",
      " #   Column  Non-Null Count  Dtype         \n",
      "---  ------  --------------  -----         \n",
      " 0   Date    1583 non-null   datetime64[ns]\n",
      " 1   AAPL    1583 non-null   float64       \n",
      " 2   AMZN    1583 non-null   int64         \n",
      " 3   TSLA    1583 non-null   float64       \n",
      " 4   GOOG    1583 non-null   float64       \n",
      " 5   TWTR    1583 non-null   int64         \n",
      " 6   ^GSPC   1583 non-null   int64         \n",
      "dtypes: datetime64[ns](1), float64(3), int64(3)\n",
      "memory usage: 86.7 KB\n",
      "<class 'pandas.core.frame.DataFrame'>\n",
      "RangeIndex: 1583 entries, 0 to 1582\n",
      "Data columns (total 7 columns):\n",
      " #   Column  Non-Null Count  Dtype         \n",
      "---  ------  --------------  -----         \n",
      " 0   Date    1583 non-null   datetime64[ns]\n",
      " 1   AAPL    1583 non-null   float64       \n",
      " 2   AMZN    1583 non-null   float64       \n",
      " 3   TSLA    1583 non-null   float64       \n",
      " 4   GOOG    1583 non-null   float64       \n",
      " 5   TWTR    1583 non-null   float64       \n",
      " 6   ^GSPC   1583 non-null   float64       \n",
      "dtypes: datetime64[ns](1), float64(6)\n",
      "memory usage: 86.7 KB\n"
     ]
    }
   ],
   "source": [
    "volume_df.info()\n",
    "price_df.info()"
   ]
  },
  {
   "cell_type": "code",
   "execution_count": 10,
   "metadata": {},
   "outputs": [
    {
     "ename": "FileNotFoundError",
     "evalue": "[Errno 2] File AMZN_avg_sent.csv does not exist: 'AMZN_avg_sent.csv'",
     "output_type": "error",
     "traceback": [
      "\u001b[1;31m---------------------------------------------------------------------------\u001b[0m",
      "\u001b[1;31mFileNotFoundError\u001b[0m                         Traceback (most recent call last)",
      "\u001b[1;32m<ipython-input-10-7a92f6f3bc03>\u001b[0m in \u001b[0;36m<module>\u001b[1;34m\u001b[0m\n\u001b[1;32m----> 1\u001b[1;33m \u001b[0msentiment\u001b[0m \u001b[1;33m=\u001b[0m \u001b[0mpd\u001b[0m\u001b[1;33m.\u001b[0m\u001b[0mread_csv\u001b[0m\u001b[1;33m(\u001b[0m\u001b[1;34m'AMZN_avg_sent.csv'\u001b[0m\u001b[1;33m)\u001b[0m\u001b[1;33m\u001b[0m\u001b[1;33m\u001b[0m\u001b[0m\n\u001b[0m",
      "\u001b[1;32m~\\anaconda3\\lib\\site-packages\\pandas\\io\\parsers.py\u001b[0m in \u001b[0;36mparser_f\u001b[1;34m(filepath_or_buffer, sep, delimiter, header, names, index_col, usecols, squeeze, prefix, mangle_dupe_cols, dtype, engine, converters, true_values, false_values, skipinitialspace, skiprows, skipfooter, nrows, na_values, keep_default_na, na_filter, verbose, skip_blank_lines, parse_dates, infer_datetime_format, keep_date_col, date_parser, dayfirst, cache_dates, iterator, chunksize, compression, thousands, decimal, lineterminator, quotechar, quoting, doublequote, escapechar, comment, encoding, dialect, error_bad_lines, warn_bad_lines, delim_whitespace, low_memory, memory_map, float_precision)\u001b[0m\n\u001b[0;32m    674\u001b[0m         )\n\u001b[0;32m    675\u001b[0m \u001b[1;33m\u001b[0m\u001b[0m\n\u001b[1;32m--> 676\u001b[1;33m         \u001b[1;32mreturn\u001b[0m \u001b[0m_read\u001b[0m\u001b[1;33m(\u001b[0m\u001b[0mfilepath_or_buffer\u001b[0m\u001b[1;33m,\u001b[0m \u001b[0mkwds\u001b[0m\u001b[1;33m)\u001b[0m\u001b[1;33m\u001b[0m\u001b[1;33m\u001b[0m\u001b[0m\n\u001b[0m\u001b[0;32m    677\u001b[0m \u001b[1;33m\u001b[0m\u001b[0m\n\u001b[0;32m    678\u001b[0m     \u001b[0mparser_f\u001b[0m\u001b[1;33m.\u001b[0m\u001b[0m__name__\u001b[0m \u001b[1;33m=\u001b[0m \u001b[0mname\u001b[0m\u001b[1;33m\u001b[0m\u001b[1;33m\u001b[0m\u001b[0m\n",
      "\u001b[1;32m~\\anaconda3\\lib\\site-packages\\pandas\\io\\parsers.py\u001b[0m in \u001b[0;36m_read\u001b[1;34m(filepath_or_buffer, kwds)\u001b[0m\n\u001b[0;32m    446\u001b[0m \u001b[1;33m\u001b[0m\u001b[0m\n\u001b[0;32m    447\u001b[0m     \u001b[1;31m# Create the parser.\u001b[0m\u001b[1;33m\u001b[0m\u001b[1;33m\u001b[0m\u001b[1;33m\u001b[0m\u001b[0m\n\u001b[1;32m--> 448\u001b[1;33m     \u001b[0mparser\u001b[0m \u001b[1;33m=\u001b[0m \u001b[0mTextFileReader\u001b[0m\u001b[1;33m(\u001b[0m\u001b[0mfp_or_buf\u001b[0m\u001b[1;33m,\u001b[0m \u001b[1;33m**\u001b[0m\u001b[0mkwds\u001b[0m\u001b[1;33m)\u001b[0m\u001b[1;33m\u001b[0m\u001b[1;33m\u001b[0m\u001b[0m\n\u001b[0m\u001b[0;32m    449\u001b[0m \u001b[1;33m\u001b[0m\u001b[0m\n\u001b[0;32m    450\u001b[0m     \u001b[1;32mif\u001b[0m \u001b[0mchunksize\u001b[0m \u001b[1;32mor\u001b[0m \u001b[0miterator\u001b[0m\u001b[1;33m:\u001b[0m\u001b[1;33m\u001b[0m\u001b[1;33m\u001b[0m\u001b[0m\n",
      "\u001b[1;32m~\\anaconda3\\lib\\site-packages\\pandas\\io\\parsers.py\u001b[0m in \u001b[0;36m__init__\u001b[1;34m(self, f, engine, **kwds)\u001b[0m\n\u001b[0;32m    878\u001b[0m             \u001b[0mself\u001b[0m\u001b[1;33m.\u001b[0m\u001b[0moptions\u001b[0m\u001b[1;33m[\u001b[0m\u001b[1;34m\"has_index_names\"\u001b[0m\u001b[1;33m]\u001b[0m \u001b[1;33m=\u001b[0m \u001b[0mkwds\u001b[0m\u001b[1;33m[\u001b[0m\u001b[1;34m\"has_index_names\"\u001b[0m\u001b[1;33m]\u001b[0m\u001b[1;33m\u001b[0m\u001b[1;33m\u001b[0m\u001b[0m\n\u001b[0;32m    879\u001b[0m \u001b[1;33m\u001b[0m\u001b[0m\n\u001b[1;32m--> 880\u001b[1;33m         \u001b[0mself\u001b[0m\u001b[1;33m.\u001b[0m\u001b[0m_make_engine\u001b[0m\u001b[1;33m(\u001b[0m\u001b[0mself\u001b[0m\u001b[1;33m.\u001b[0m\u001b[0mengine\u001b[0m\u001b[1;33m)\u001b[0m\u001b[1;33m\u001b[0m\u001b[1;33m\u001b[0m\u001b[0m\n\u001b[0m\u001b[0;32m    881\u001b[0m \u001b[1;33m\u001b[0m\u001b[0m\n\u001b[0;32m    882\u001b[0m     \u001b[1;32mdef\u001b[0m \u001b[0mclose\u001b[0m\u001b[1;33m(\u001b[0m\u001b[0mself\u001b[0m\u001b[1;33m)\u001b[0m\u001b[1;33m:\u001b[0m\u001b[1;33m\u001b[0m\u001b[1;33m\u001b[0m\u001b[0m\n",
      "\u001b[1;32m~\\anaconda3\\lib\\site-packages\\pandas\\io\\parsers.py\u001b[0m in \u001b[0;36m_make_engine\u001b[1;34m(self, engine)\u001b[0m\n\u001b[0;32m   1112\u001b[0m     \u001b[1;32mdef\u001b[0m \u001b[0m_make_engine\u001b[0m\u001b[1;33m(\u001b[0m\u001b[0mself\u001b[0m\u001b[1;33m,\u001b[0m \u001b[0mengine\u001b[0m\u001b[1;33m=\u001b[0m\u001b[1;34m\"c\"\u001b[0m\u001b[1;33m)\u001b[0m\u001b[1;33m:\u001b[0m\u001b[1;33m\u001b[0m\u001b[1;33m\u001b[0m\u001b[0m\n\u001b[0;32m   1113\u001b[0m         \u001b[1;32mif\u001b[0m \u001b[0mengine\u001b[0m \u001b[1;33m==\u001b[0m \u001b[1;34m\"c\"\u001b[0m\u001b[1;33m:\u001b[0m\u001b[1;33m\u001b[0m\u001b[1;33m\u001b[0m\u001b[0m\n\u001b[1;32m-> 1114\u001b[1;33m             \u001b[0mself\u001b[0m\u001b[1;33m.\u001b[0m\u001b[0m_engine\u001b[0m \u001b[1;33m=\u001b[0m \u001b[0mCParserWrapper\u001b[0m\u001b[1;33m(\u001b[0m\u001b[0mself\u001b[0m\u001b[1;33m.\u001b[0m\u001b[0mf\u001b[0m\u001b[1;33m,\u001b[0m \u001b[1;33m**\u001b[0m\u001b[0mself\u001b[0m\u001b[1;33m.\u001b[0m\u001b[0moptions\u001b[0m\u001b[1;33m)\u001b[0m\u001b[1;33m\u001b[0m\u001b[1;33m\u001b[0m\u001b[0m\n\u001b[0m\u001b[0;32m   1115\u001b[0m         \u001b[1;32melse\u001b[0m\u001b[1;33m:\u001b[0m\u001b[1;33m\u001b[0m\u001b[1;33m\u001b[0m\u001b[0m\n\u001b[0;32m   1116\u001b[0m             \u001b[1;32mif\u001b[0m \u001b[0mengine\u001b[0m \u001b[1;33m==\u001b[0m \u001b[1;34m\"python\"\u001b[0m\u001b[1;33m:\u001b[0m\u001b[1;33m\u001b[0m\u001b[1;33m\u001b[0m\u001b[0m\n",
      "\u001b[1;32m~\\anaconda3\\lib\\site-packages\\pandas\\io\\parsers.py\u001b[0m in \u001b[0;36m__init__\u001b[1;34m(self, src, **kwds)\u001b[0m\n\u001b[0;32m   1889\u001b[0m         \u001b[0mkwds\u001b[0m\u001b[1;33m[\u001b[0m\u001b[1;34m\"usecols\"\u001b[0m\u001b[1;33m]\u001b[0m \u001b[1;33m=\u001b[0m \u001b[0mself\u001b[0m\u001b[1;33m.\u001b[0m\u001b[0musecols\u001b[0m\u001b[1;33m\u001b[0m\u001b[1;33m\u001b[0m\u001b[0m\n\u001b[0;32m   1890\u001b[0m \u001b[1;33m\u001b[0m\u001b[0m\n\u001b[1;32m-> 1891\u001b[1;33m         \u001b[0mself\u001b[0m\u001b[1;33m.\u001b[0m\u001b[0m_reader\u001b[0m \u001b[1;33m=\u001b[0m \u001b[0mparsers\u001b[0m\u001b[1;33m.\u001b[0m\u001b[0mTextReader\u001b[0m\u001b[1;33m(\u001b[0m\u001b[0msrc\u001b[0m\u001b[1;33m,\u001b[0m \u001b[1;33m**\u001b[0m\u001b[0mkwds\u001b[0m\u001b[1;33m)\u001b[0m\u001b[1;33m\u001b[0m\u001b[1;33m\u001b[0m\u001b[0m\n\u001b[0m\u001b[0;32m   1892\u001b[0m         \u001b[0mself\u001b[0m\u001b[1;33m.\u001b[0m\u001b[0munnamed_cols\u001b[0m \u001b[1;33m=\u001b[0m \u001b[0mself\u001b[0m\u001b[1;33m.\u001b[0m\u001b[0m_reader\u001b[0m\u001b[1;33m.\u001b[0m\u001b[0munnamed_cols\u001b[0m\u001b[1;33m\u001b[0m\u001b[1;33m\u001b[0m\u001b[0m\n\u001b[0;32m   1893\u001b[0m \u001b[1;33m\u001b[0m\u001b[0m\n",
      "\u001b[1;32mpandas\\_libs\\parsers.pyx\u001b[0m in \u001b[0;36mpandas._libs.parsers.TextReader.__cinit__\u001b[1;34m()\u001b[0m\n",
      "\u001b[1;32mpandas\\_libs\\parsers.pyx\u001b[0m in \u001b[0;36mpandas._libs.parsers.TextReader._setup_parser_source\u001b[1;34m()\u001b[0m\n",
      "\u001b[1;31mFileNotFoundError\u001b[0m: [Errno 2] File AMZN_avg_sent.csv does not exist: 'AMZN_avg_sent.csv'"
     ]
    }
   ],
   "source": [
    "#sentiment = pd.read_csv('AMZN_avg_sent.csv')"
   ]
  },
  {
   "cell_type": "markdown",
   "metadata": {},
   "source": [
    "## Visualizations"
   ]
  },
  {
   "cell_type": "code",
   "execution_count": 72,
   "metadata": {},
   "outputs": [],
   "source": [
    "# Function to normalize stock prices based on their initial price\n",
    "def normalize(df):\n",
    "  x = df.copy()\n",
    "  for i in x.columns[1:]:\n",
    "    x[i] = x[i]/x[i][0]\n",
    "  return x\n",
    "\n",
    "\n",
    "# Function to plot interactive plots using Plotly Express\n",
    "def interactive_plot(df, title):\n",
    "  fig = px.line(title = title)\n",
    "  for i in df.columns[1:]:\n",
    "    fig.add_scatter(x = df['Date'], y = df[i], name = i)\n",
    "  fig.show()"
   ]
  },
  {
   "cell_type": "code",
   "execution_count": 73,
   "metadata": {},
   "outputs": [],
   "source": [
    "#GIVING ME SOME ERRORS\n",
    "\n",
    "# plot interactive chart for stocks data\n",
    "#interactive_plot(price_df, 'Stock Prices')"
   ]
  },
  {
   "cell_type": "markdown",
   "metadata": {},
   "source": [
    "## Splitting Data into Train and Test"
   ]
  },
  {
   "cell_type": "code",
   "execution_count": 74,
   "metadata": {},
   "outputs": [],
   "source": [
    "# Function to concatenate the date, stock price, and volume in one dataframe\n",
    "def individual_stock(price_df, vol_df, name):\n",
    "    return pd.DataFrame({'Date': price_df['Date'], 'Close': price_df[name], 'Volume': vol_df[name]})"
   ]
  },
  {
   "cell_type": "code",
   "execution_count": 75,
   "metadata": {},
   "outputs": [],
   "source": [
    "# Function to return the input/output (target) data for AI/ML Model\n",
    "# Note that our goal is to predict the future stock price \n",
    "# Target stock price today will be tomorrow's price \n",
    "def trading_window(data):\n",
    "  \n",
    "  # 1 day window \n",
    "  n = 1\n",
    "\n",
    "  # Create a column containing the prices for the next 1 days\n",
    "  data['Target'] = data[['Close']].shift(-n)\n",
    "  \n",
    "  # return the new dataset \n",
    "  return data"
   ]
  },
  {
   "cell_type": "code",
   "execution_count": 76,
   "metadata": {},
   "outputs": [
    {
     "data": {
      "text/html": [
       "<div>\n",
       "<style scoped>\n",
       "    .dataframe tbody tr th:only-of-type {\n",
       "        vertical-align: middle;\n",
       "    }\n",
       "\n",
       "    .dataframe tbody tr th {\n",
       "        vertical-align: top;\n",
       "    }\n",
       "\n",
       "    .dataframe thead th {\n",
       "        text-align: right;\n",
       "    }\n",
       "</style>\n",
       "<table border=\"1\" class=\"dataframe\">\n",
       "  <thead>\n",
       "    <tr style=\"text-align: right;\">\n",
       "      <th></th>\n",
       "      <th>Date</th>\n",
       "      <th>Close</th>\n",
       "      <th>Volume</th>\n",
       "    </tr>\n",
       "  </thead>\n",
       "  <tbody>\n",
       "    <tr>\n",
       "      <th>0</th>\n",
       "      <td>2015-01-02</td>\n",
       "      <td>308.519989</td>\n",
       "      <td>2783200</td>\n",
       "    </tr>\n",
       "    <tr>\n",
       "      <th>1</th>\n",
       "      <td>2015-01-05</td>\n",
       "      <td>302.190002</td>\n",
       "      <td>2774200</td>\n",
       "    </tr>\n",
       "    <tr>\n",
       "      <th>2</th>\n",
       "      <td>2015-01-06</td>\n",
       "      <td>295.290009</td>\n",
       "      <td>3519000</td>\n",
       "    </tr>\n",
       "    <tr>\n",
       "      <th>3</th>\n",
       "      <td>2015-01-07</td>\n",
       "      <td>298.420013</td>\n",
       "      <td>2640300</td>\n",
       "    </tr>\n",
       "    <tr>\n",
       "      <th>4</th>\n",
       "      <td>2015-01-08</td>\n",
       "      <td>300.459991</td>\n",
       "      <td>3088400</td>\n",
       "    </tr>\n",
       "    <tr>\n",
       "      <th>...</th>\n",
       "      <td>...</td>\n",
       "      <td>...</td>\n",
       "      <td>...</td>\n",
       "    </tr>\n",
       "    <tr>\n",
       "      <th>1577</th>\n",
       "      <td>2021-04-09</td>\n",
       "      <td>3372.199951</td>\n",
       "      <td>4334600</td>\n",
       "    </tr>\n",
       "    <tr>\n",
       "      <th>1578</th>\n",
       "      <td>2021-04-12</td>\n",
       "      <td>3379.389893</td>\n",
       "      <td>3281800</td>\n",
       "    </tr>\n",
       "    <tr>\n",
       "      <th>1579</th>\n",
       "      <td>2021-04-13</td>\n",
       "      <td>3400.000000</td>\n",
       "      <td>3315800</td>\n",
       "    </tr>\n",
       "    <tr>\n",
       "      <th>1580</th>\n",
       "      <td>2021-04-14</td>\n",
       "      <td>3333.000000</td>\n",
       "      <td>3140300</td>\n",
       "    </tr>\n",
       "    <tr>\n",
       "      <th>1581</th>\n",
       "      <td>2021-04-15</td>\n",
       "      <td>3379.090088</td>\n",
       "      <td>3233580</td>\n",
       "    </tr>\n",
       "  </tbody>\n",
       "</table>\n",
       "<p>1582 rows × 3 columns</p>\n",
       "</div>"
      ],
      "text/plain": [
       "           Date        Close   Volume\n",
       "0    2015-01-02   308.519989  2783200\n",
       "1    2015-01-05   302.190002  2774200\n",
       "2    2015-01-06   295.290009  3519000\n",
       "3    2015-01-07   298.420013  2640300\n",
       "4    2015-01-08   300.459991  3088400\n",
       "...         ...          ...      ...\n",
       "1577 2021-04-09  3372.199951  4334600\n",
       "1578 2021-04-12  3379.389893  3281800\n",
       "1579 2021-04-13  3400.000000  3315800\n",
       "1580 2021-04-14  3333.000000  3140300\n",
       "1581 2021-04-15  3379.090088  3233580\n",
       "\n",
       "[1582 rows x 3 columns]"
      ]
     },
     "execution_count": 76,
     "metadata": {},
     "output_type": "execute_result"
    }
   ],
   "source": [
    "price_volume_df = individual_stock(price_df, volume_df, 'AMZN')\n",
    "price_volume_df "
   ]
  },
  {
   "cell_type": "code",
   "execution_count": 66,
   "metadata": {},
   "outputs": [
    {
     "data": {
      "text/html": [
       "<div>\n",
       "<style scoped>\n",
       "    .dataframe tbody tr th:only-of-type {\n",
       "        vertical-align: middle;\n",
       "    }\n",
       "\n",
       "    .dataframe tbody tr th {\n",
       "        vertical-align: top;\n",
       "    }\n",
       "\n",
       "    .dataframe thead th {\n",
       "        text-align: right;\n",
       "    }\n",
       "</style>\n",
       "<table border=\"1\" class=\"dataframe\">\n",
       "  <thead>\n",
       "    <tr style=\"text-align: right;\">\n",
       "      <th></th>\n",
       "      <th>Date</th>\n",
       "      <th>Close</th>\n",
       "      <th>Volume</th>\n",
       "      <th>Target</th>\n",
       "    </tr>\n",
       "  </thead>\n",
       "  <tbody>\n",
       "    <tr>\n",
       "      <th>0</th>\n",
       "      <td>2015-01-02</td>\n",
       "      <td>308.519989</td>\n",
       "      <td>2783200</td>\n",
       "      <td>302.190002</td>\n",
       "    </tr>\n",
       "    <tr>\n",
       "      <th>1</th>\n",
       "      <td>2015-01-05</td>\n",
       "      <td>302.190002</td>\n",
       "      <td>2774200</td>\n",
       "      <td>295.290009</td>\n",
       "    </tr>\n",
       "    <tr>\n",
       "      <th>2</th>\n",
       "      <td>2015-01-06</td>\n",
       "      <td>295.290009</td>\n",
       "      <td>3519000</td>\n",
       "      <td>298.420013</td>\n",
       "    </tr>\n",
       "    <tr>\n",
       "      <th>3</th>\n",
       "      <td>2015-01-07</td>\n",
       "      <td>298.420013</td>\n",
       "      <td>2640300</td>\n",
       "      <td>300.459991</td>\n",
       "    </tr>\n",
       "    <tr>\n",
       "      <th>4</th>\n",
       "      <td>2015-01-08</td>\n",
       "      <td>300.459991</td>\n",
       "      <td>3088400</td>\n",
       "      <td>296.929993</td>\n",
       "    </tr>\n",
       "    <tr>\n",
       "      <th>...</th>\n",
       "      <td>...</td>\n",
       "      <td>...</td>\n",
       "      <td>...</td>\n",
       "      <td>...</td>\n",
       "    </tr>\n",
       "    <tr>\n",
       "      <th>1576</th>\n",
       "      <td>2021-04-08</td>\n",
       "      <td>3299.300049</td>\n",
       "      <td>2812100</td>\n",
       "      <td>3372.199951</td>\n",
       "    </tr>\n",
       "    <tr>\n",
       "      <th>1577</th>\n",
       "      <td>2021-04-09</td>\n",
       "      <td>3372.199951</td>\n",
       "      <td>4334600</td>\n",
       "      <td>3379.389893</td>\n",
       "    </tr>\n",
       "    <tr>\n",
       "      <th>1578</th>\n",
       "      <td>2021-04-12</td>\n",
       "      <td>3379.389893</td>\n",
       "      <td>3281800</td>\n",
       "      <td>3400.000000</td>\n",
       "    </tr>\n",
       "    <tr>\n",
       "      <th>1579</th>\n",
       "      <td>2021-04-13</td>\n",
       "      <td>3400.000000</td>\n",
       "      <td>3315800</td>\n",
       "      <td>3333.000000</td>\n",
       "    </tr>\n",
       "    <tr>\n",
       "      <th>1580</th>\n",
       "      <td>2021-04-14</td>\n",
       "      <td>3333.000000</td>\n",
       "      <td>3140300</td>\n",
       "      <td>3379.090088</td>\n",
       "    </tr>\n",
       "  </tbody>\n",
       "</table>\n",
       "<p>1581 rows × 4 columns</p>\n",
       "</div>"
      ],
      "text/plain": [
       "           Date        Close   Volume       Target\n",
       "0    2015-01-02   308.519989  2783200   302.190002\n",
       "1    2015-01-05   302.190002  2774200   295.290009\n",
       "2    2015-01-06   295.290009  3519000   298.420013\n",
       "3    2015-01-07   298.420013  2640300   300.459991\n",
       "4    2015-01-08   300.459991  3088400   296.929993\n",
       "...         ...          ...      ...          ...\n",
       "1576 2021-04-08  3299.300049  2812100  3372.199951\n",
       "1577 2021-04-09  3372.199951  4334600  3379.389893\n",
       "1578 2021-04-12  3379.389893  3281800  3400.000000\n",
       "1579 2021-04-13  3400.000000  3315800  3333.000000\n",
       "1580 2021-04-14  3333.000000  3140300  3379.090088\n",
       "\n",
       "[1581 rows x 4 columns]"
      ]
     },
     "execution_count": 66,
     "metadata": {},
     "output_type": "execute_result"
    }
   ],
   "source": [
    "price_volume_target_df = trading_window(price_volume_df)\n",
    "\n",
    "# Remove the last row as it will be a null value\n",
    "price_volume_target_df = price_volume_target_df[:-1]\n",
    "price_volume_target_df"
   ]
  },
  {
   "cell_type": "code",
   "execution_count": 67,
   "metadata": {},
   "outputs": [],
   "source": [
    "# Scale the data\n",
    "# Scale the data is \n",
    "from sklearn.preprocessing import MinMaxScaler\n",
    "sc = MinMaxScaler(feature_range = (0, 1))\n",
    "price_volume_target_scaled_df = sc.fit_transform(price_volume_target_df.drop(columns = ['Date']))"
   ]
  },
  {
   "cell_type": "code",
   "execution_count": 68,
   "metadata": {},
   "outputs": [],
   "source": [
    "# Creating Feature and Target\n",
    "X = price_volume_target_scaled_df[:,:2]  #features are x \n",
    "y = price_volume_target_scaled_df[:,2:]  #target are y "
   ]
  },
  {
   "cell_type": "code",
   "execution_count": 69,
   "metadata": {},
   "outputs": [],
   "source": [
    "#80% of data is used for training other 20% is used for testing\n",
    "split = int(0.8 * len(X))\n",
    "X_train = X[:split]\n",
    "y_train = y[:split]\n",
    "X_test = X[split:]\n",
    "y_test = y[split:]"
   ]
  },
  {
   "cell_type": "code",
   "execution_count": 70,
   "metadata": {},
   "outputs": [
    {
     "data": {
      "image/png": "[encoded data removed]",
      "text/plain": [
       "<Figure size 936x360 with 1 Axes>"
      ]
     },
     "metadata": {
      "needs_background": "light"
     },
     "output_type": "display_data"
    },
    {
     "data": {
      "image/png": "[encoded data removed]",
      "text/plain": [
       "<Figure size 936x360 with 1 Axes>"
      ]
     },
     "metadata": {
      "needs_background": "light"
     },
     "output_type": "display_data"
    }
   ],
   "source": [
    "# Define a data plotting function\n",
    "def show_plot(data, title):\n",
    "  plt.figure(figsize = (13, 5))\n",
    "  plt.plot(data, linewidth = 3)\n",
    "  plt.title(title)\n",
    "  plt.grid()\n",
    "\n",
    "show_plot(X_train, 'Training Data')\n",
    "show_plot(X_test, 'Testing Data')\n",
    "\n",
    "\n"
   ]
  },
  {
   "cell_type": "code",
   "execution_count": 42,
   "metadata": {},
   "outputs": [
    {
     "data": {
      "text/plain": [
       "Ridge(alpha=1.0, copy_X=True, fit_intercept=True, max_iter=None,\n",
       "      normalize=False, random_state=None, solver='auto', tol=0.001)"
      ]
     },
     "execution_count": 42,
     "metadata": {},
     "output_type": "execute_result"
    }
   ],
   "source": [
    "from sklearn.linear_model import Ridge\n",
    "# Note that Ridge regression performs linear least squares with L2 regularization.\n",
    "# Create and train the Ridge Linear Regression  Model\n",
    "regression_model = Ridge()\n",
    "regression_model.fit(X_train, y_train)"
   ]
  },
  {
   "cell_type": "code",
   "execution_count": 43,
   "metadata": {},
   "outputs": [
    {
     "name": "stdout",
     "output_type": "stream",
     "text": [
      "Linear Regression Score:  0.9748528760574436\n"
     ]
    }
   ],
   "source": [
    "# Test the model and calculate its accuracy \n",
    "lr_accuracy = regression_model.score(X_test, y_test)\n",
    "print(\"Linear Regression Score: \", lr_accuracy)"
   ]
  },
  {
   "cell_type": "code",
   "execution_count": 44,
   "metadata": {},
   "outputs": [
    {
     "data": {
      "text/plain": [
       "array([[0.01421208],\n",
       "       [0.01231749],\n",
       "       [0.01037123],\n",
       "       ...,\n",
       "       [0.93272359],\n",
       "       [0.938893  ],\n",
       "       [0.91882704]])"
      ]
     },
     "execution_count": 44,
     "metadata": {},
     "output_type": "execute_result"
    }
   ],
   "source": [
    "# Make Prediction\n",
    "predicted_prices = regression_model.predict(X)\n",
    "predicted_prices"
   ]
  },
  {
   "cell_type": "code",
   "execution_count": 45,
   "metadata": {},
   "outputs": [],
   "source": [
    "# Append the predicted values into a list\n",
    "Predicted = []\n",
    "for i in predicted_prices:\n",
    "  Predicted.append(i[0])"
   ]
  },
  {
   "cell_type": "code",
   "execution_count": 46,
   "metadata": {},
   "outputs": [
    {
     "data": {
      "text/plain": [
       "1581"
      ]
     },
     "execution_count": 46,
     "metadata": {},
     "output_type": "execute_result"
    }
   ],
   "source": [
    "len(Predicted)"
   ]
  },
  {
   "cell_type": "code",
   "execution_count": 47,
   "metadata": {},
   "outputs": [],
   "source": [
    "# Append the close values to the list\n",
    "close = []\n",
    "for i in price_volume_target_scaled_df:\n",
    "  close.append(i[0])"
   ]
  },
  {
   "cell_type": "code",
   "execution_count": 48,
   "metadata": {},
   "outputs": [
    {
     "data": {
      "text/html": [
       "<div>\n",
       "<style scoped>\n",
       "    .dataframe tbody tr th:only-of-type {\n",
       "        vertical-align: middle;\n",
       "    }\n",
       "\n",
       "    .dataframe tbody tr th {\n",
       "        vertical-align: top;\n",
       "    }\n",
       "\n",
       "    .dataframe thead th {\n",
       "        text-align: right;\n",
       "    }\n",
       "</style>\n",
       "<table border=\"1\" class=\"dataframe\">\n",
       "  <thead>\n",
       "    <tr style=\"text-align: right;\">\n",
       "      <th></th>\n",
       "      <th>Date</th>\n",
       "    </tr>\n",
       "  </thead>\n",
       "  <tbody>\n",
       "    <tr>\n",
       "      <th>0</th>\n",
       "      <td>2015-01-02</td>\n",
       "    </tr>\n",
       "    <tr>\n",
       "      <th>1</th>\n",
       "      <td>2015-01-05</td>\n",
       "    </tr>\n",
       "    <tr>\n",
       "      <th>2</th>\n",
       "      <td>2015-01-06</td>\n",
       "    </tr>\n",
       "    <tr>\n",
       "      <th>3</th>\n",
       "      <td>2015-01-07</td>\n",
       "    </tr>\n",
       "    <tr>\n",
       "      <th>4</th>\n",
       "      <td>2015-01-08</td>\n",
       "    </tr>\n",
       "    <tr>\n",
       "      <th>...</th>\n",
       "      <td>...</td>\n",
       "    </tr>\n",
       "    <tr>\n",
       "      <th>1576</th>\n",
       "      <td>2021-04-08</td>\n",
       "    </tr>\n",
       "    <tr>\n",
       "      <th>1577</th>\n",
       "      <td>2021-04-09</td>\n",
       "    </tr>\n",
       "    <tr>\n",
       "      <th>1578</th>\n",
       "      <td>2021-04-12</td>\n",
       "    </tr>\n",
       "    <tr>\n",
       "      <th>1579</th>\n",
       "      <td>2021-04-13</td>\n",
       "    </tr>\n",
       "    <tr>\n",
       "      <th>1580</th>\n",
       "      <td>2021-04-14</td>\n",
       "    </tr>\n",
       "  </tbody>\n",
       "</table>\n",
       "<p>1581 rows × 1 columns</p>\n",
       "</div>"
      ],
      "text/plain": [
       "           Date\n",
       "0    2015-01-02\n",
       "1    2015-01-05\n",
       "2    2015-01-06\n",
       "3    2015-01-07\n",
       "4    2015-01-08\n",
       "...         ...\n",
       "1576 2021-04-08\n",
       "1577 2021-04-09\n",
       "1578 2021-04-12\n",
       "1579 2021-04-13\n",
       "1580 2021-04-14\n",
       "\n",
       "[1581 rows x 1 columns]"
      ]
     },
     "execution_count": 48,
     "metadata": {},
     "output_type": "execute_result"
    }
   ],
   "source": [
    "# Create a dataframe based on the dates in the individual stock data\n",
    "df_predicted = price_volume_target_df[['Date']]\n",
    "df_predicted"
   ]
  },
  {
   "cell_type": "code",
   "execution_count": 49,
   "metadata": {},
   "outputs": [
    {
     "data": {
      "text/html": [
       "<div>\n",
       "<style scoped>\n",
       "    .dataframe tbody tr th:only-of-type {\n",
       "        vertical-align: middle;\n",
       "    }\n",
       "\n",
       "    .dataframe tbody tr th {\n",
       "        vertical-align: top;\n",
       "    }\n",
       "\n",
       "    .dataframe thead th {\n",
       "        text-align: right;\n",
       "    }\n",
       "</style>\n",
       "<table border=\"1\" class=\"dataframe\">\n",
       "  <thead>\n",
       "    <tr style=\"text-align: right;\">\n",
       "      <th></th>\n",
       "      <th>Date</th>\n",
       "      <th>Close</th>\n",
       "    </tr>\n",
       "  </thead>\n",
       "  <tbody>\n",
       "    <tr>\n",
       "      <th>0</th>\n",
       "      <td>2015-01-02</td>\n",
       "      <td>0.006648</td>\n",
       "    </tr>\n",
       "    <tr>\n",
       "      <th>1</th>\n",
       "      <td>2015-01-05</td>\n",
       "      <td>0.004697</td>\n",
       "    </tr>\n",
       "    <tr>\n",
       "      <th>2</th>\n",
       "      <td>2015-01-06</td>\n",
       "      <td>0.002571</td>\n",
       "    </tr>\n",
       "    <tr>\n",
       "      <th>3</th>\n",
       "      <td>2015-01-07</td>\n",
       "      <td>0.003535</td>\n",
       "    </tr>\n",
       "    <tr>\n",
       "      <th>4</th>\n",
       "      <td>2015-01-08</td>\n",
       "      <td>0.004164</td>\n",
       "    </tr>\n",
       "    <tr>\n",
       "      <th>...</th>\n",
       "      <td>...</td>\n",
       "      <td>...</td>\n",
       "    </tr>\n",
       "    <tr>\n",
       "      <th>1576</th>\n",
       "      <td>2021-04-08</td>\n",
       "      <td>0.928448</td>\n",
       "    </tr>\n",
       "    <tr>\n",
       "      <th>1577</th>\n",
       "      <td>2021-04-09</td>\n",
       "      <td>0.950917</td>\n",
       "    </tr>\n",
       "    <tr>\n",
       "      <th>1578</th>\n",
       "      <td>2021-04-12</td>\n",
       "      <td>0.953133</td>\n",
       "    </tr>\n",
       "    <tr>\n",
       "      <th>1579</th>\n",
       "      <td>2021-04-13</td>\n",
       "      <td>0.959485</td>\n",
       "    </tr>\n",
       "    <tr>\n",
       "      <th>1580</th>\n",
       "      <td>2021-04-14</td>\n",
       "      <td>0.938835</td>\n",
       "    </tr>\n",
       "  </tbody>\n",
       "</table>\n",
       "<p>1581 rows × 2 columns</p>\n",
       "</div>"
      ],
      "text/plain": [
       "           Date     Close\n",
       "0    2015-01-02  0.006648\n",
       "1    2015-01-05  0.004697\n",
       "2    2015-01-06  0.002571\n",
       "3    2015-01-07  0.003535\n",
       "4    2015-01-08  0.004164\n",
       "...         ...       ...\n",
       "1576 2021-04-08  0.928448\n",
       "1577 2021-04-09  0.950917\n",
       "1578 2021-04-12  0.953133\n",
       "1579 2021-04-13  0.959485\n",
       "1580 2021-04-14  0.938835\n",
       "\n",
       "[1581 rows x 2 columns]"
      ]
     },
     "execution_count": 49,
     "metadata": {},
     "output_type": "execute_result"
    }
   ],
   "source": [
    "# Add the close values to the dataframe\n",
    "df_predicted['Close'] = close\n",
    "df_predicted"
   ]
  },
  {
   "cell_type": "code",
   "execution_count": 50,
   "metadata": {},
   "outputs": [
    {
     "data": {
      "text/html": [
       "<div>\n",
       "<style scoped>\n",
       "    .dataframe tbody tr th:only-of-type {\n",
       "        vertical-align: middle;\n",
       "    }\n",
       "\n",
       "    .dataframe tbody tr th {\n",
       "        vertical-align: top;\n",
       "    }\n",
       "\n",
       "    .dataframe thead th {\n",
       "        text-align: right;\n",
       "    }\n",
       "</style>\n",
       "<table border=\"1\" class=\"dataframe\">\n",
       "  <thead>\n",
       "    <tr style=\"text-align: right;\">\n",
       "      <th></th>\n",
       "      <th>Date</th>\n",
       "      <th>Close</th>\n",
       "      <th>Prediction</th>\n",
       "    </tr>\n",
       "  </thead>\n",
       "  <tbody>\n",
       "    <tr>\n",
       "      <th>0</th>\n",
       "      <td>2015-01-02</td>\n",
       "      <td>0.006648</td>\n",
       "      <td>0.014212</td>\n",
       "    </tr>\n",
       "    <tr>\n",
       "      <th>1</th>\n",
       "      <td>2015-01-05</td>\n",
       "      <td>0.004697</td>\n",
       "      <td>0.012317</td>\n",
       "    </tr>\n",
       "    <tr>\n",
       "      <th>2</th>\n",
       "      <td>2015-01-06</td>\n",
       "      <td>0.002571</td>\n",
       "      <td>0.010371</td>\n",
       "    </tr>\n",
       "    <tr>\n",
       "      <th>3</th>\n",
       "      <td>2015-01-07</td>\n",
       "      <td>0.003535</td>\n",
       "      <td>0.011169</td>\n",
       "    </tr>\n",
       "    <tr>\n",
       "      <th>4</th>\n",
       "      <td>2015-01-08</td>\n",
       "      <td>0.004164</td>\n",
       "      <td>0.011850</td>\n",
       "    </tr>\n",
       "    <tr>\n",
       "      <th>...</th>\n",
       "      <td>...</td>\n",
       "      <td>...</td>\n",
       "      <td>...</td>\n",
       "    </tr>\n",
       "    <tr>\n",
       "      <th>1576</th>\n",
       "      <td>2021-04-08</td>\n",
       "      <td>0.928448</td>\n",
       "      <td>0.908696</td>\n",
       "    </tr>\n",
       "    <tr>\n",
       "      <th>1577</th>\n",
       "      <td>2021-04-09</td>\n",
       "      <td>0.950917</td>\n",
       "      <td>0.930739</td>\n",
       "    </tr>\n",
       "    <tr>\n",
       "      <th>1578</th>\n",
       "      <td>2021-04-12</td>\n",
       "      <td>0.953133</td>\n",
       "      <td>0.932724</td>\n",
       "    </tr>\n",
       "    <tr>\n",
       "      <th>1579</th>\n",
       "      <td>2021-04-13</td>\n",
       "      <td>0.959485</td>\n",
       "      <td>0.938893</td>\n",
       "    </tr>\n",
       "    <tr>\n",
       "      <th>1580</th>\n",
       "      <td>2021-04-14</td>\n",
       "      <td>0.938835</td>\n",
       "      <td>0.918827</td>\n",
       "    </tr>\n",
       "  </tbody>\n",
       "</table>\n",
       "<p>1581 rows × 3 columns</p>\n",
       "</div>"
      ],
      "text/plain": [
       "           Date     Close  Prediction\n",
       "0    2015-01-02  0.006648    0.014212\n",
       "1    2015-01-05  0.004697    0.012317\n",
       "2    2015-01-06  0.002571    0.010371\n",
       "3    2015-01-07  0.003535    0.011169\n",
       "4    2015-01-08  0.004164    0.011850\n",
       "...         ...       ...         ...\n",
       "1576 2021-04-08  0.928448    0.908696\n",
       "1577 2021-04-09  0.950917    0.930739\n",
       "1578 2021-04-12  0.953133    0.932724\n",
       "1579 2021-04-13  0.959485    0.938893\n",
       "1580 2021-04-14  0.938835    0.918827\n",
       "\n",
       "[1581 rows x 3 columns]"
      ]
     },
     "execution_count": 50,
     "metadata": {},
     "output_type": "execute_result"
    }
   ],
   "source": [
    "# Add the predicted values to the dataframe\n",
    "df_predicted['Prediction'] = Predicted\n",
    "df_predicted"
   ]
  },
  {
   "cell_type": "code",
   "execution_count": 51,
   "metadata": {},
   "outputs": [
    {
     "data": {
      "text/html": [
       "<div>\n",
       "<style scoped>\n",
       "    .dataframe tbody tr th:only-of-type {\n",
       "        vertical-align: middle;\n",
       "    }\n",
       "\n",
       "    .dataframe tbody tr th {\n",
       "        vertical-align: top;\n",
       "    }\n",
       "\n",
       "    .dataframe thead th {\n",
       "        text-align: right;\n",
       "    }\n",
       "</style>\n",
       "<table border=\"1\" class=\"dataframe\">\n",
       "  <thead>\n",
       "    <tr style=\"text-align: right;\">\n",
       "      <th></th>\n",
       "      <th>Date</th>\n",
       "      <th>Close</th>\n",
       "      <th>Prediction</th>\n",
       "      <th>Deviation</th>\n",
       "    </tr>\n",
       "  </thead>\n",
       "  <tbody>\n",
       "    <tr>\n",
       "      <th>0</th>\n",
       "      <td>2015-01-02</td>\n",
       "      <td>0.006648</td>\n",
       "      <td>0.014212</td>\n",
       "      <td>0.000057</td>\n",
       "    </tr>\n",
       "    <tr>\n",
       "      <th>1</th>\n",
       "      <td>2015-01-05</td>\n",
       "      <td>0.004697</td>\n",
       "      <td>0.012317</td>\n",
       "      <td>0.000058</td>\n",
       "    </tr>\n",
       "    <tr>\n",
       "      <th>2</th>\n",
       "      <td>2015-01-06</td>\n",
       "      <td>0.002571</td>\n",
       "      <td>0.010371</td>\n",
       "      <td>0.000061</td>\n",
       "    </tr>\n",
       "    <tr>\n",
       "      <th>3</th>\n",
       "      <td>2015-01-07</td>\n",
       "      <td>0.003535</td>\n",
       "      <td>0.011169</td>\n",
       "      <td>0.000058</td>\n",
       "    </tr>\n",
       "    <tr>\n",
       "      <th>4</th>\n",
       "      <td>2015-01-08</td>\n",
       "      <td>0.004164</td>\n",
       "      <td>0.011850</td>\n",
       "      <td>0.000059</td>\n",
       "    </tr>\n",
       "    <tr>\n",
       "      <th>...</th>\n",
       "      <td>...</td>\n",
       "      <td>...</td>\n",
       "      <td>...</td>\n",
       "      <td>...</td>\n",
       "    </tr>\n",
       "    <tr>\n",
       "      <th>1576</th>\n",
       "      <td>2021-04-08</td>\n",
       "      <td>0.928448</td>\n",
       "      <td>0.908696</td>\n",
       "      <td>0.000390</td>\n",
       "    </tr>\n",
       "    <tr>\n",
       "      <th>1577</th>\n",
       "      <td>2021-04-09</td>\n",
       "      <td>0.950917</td>\n",
       "      <td>0.930739</td>\n",
       "      <td>0.000407</td>\n",
       "    </tr>\n",
       "    <tr>\n",
       "      <th>1578</th>\n",
       "      <td>2021-04-12</td>\n",
       "      <td>0.953133</td>\n",
       "      <td>0.932724</td>\n",
       "      <td>0.000417</td>\n",
       "    </tr>\n",
       "    <tr>\n",
       "      <th>1579</th>\n",
       "      <td>2021-04-13</td>\n",
       "      <td>0.959485</td>\n",
       "      <td>0.938893</td>\n",
       "      <td>0.000424</td>\n",
       "    </tr>\n",
       "    <tr>\n",
       "      <th>1580</th>\n",
       "      <td>2021-04-14</td>\n",
       "      <td>0.938835</td>\n",
       "      <td>0.918827</td>\n",
       "      <td>0.000400</td>\n",
       "    </tr>\n",
       "  </tbody>\n",
       "</table>\n",
       "<p>1581 rows × 4 columns</p>\n",
       "</div>"
      ],
      "text/plain": [
       "           Date     Close  Prediction  Deviation\n",
       "0    2015-01-02  0.006648    0.014212   0.000057\n",
       "1    2015-01-05  0.004697    0.012317   0.000058\n",
       "2    2015-01-06  0.002571    0.010371   0.000061\n",
       "3    2015-01-07  0.003535    0.011169   0.000058\n",
       "4    2015-01-08  0.004164    0.011850   0.000059\n",
       "...         ...       ...         ...        ...\n",
       "1576 2021-04-08  0.928448    0.908696   0.000390\n",
       "1577 2021-04-09  0.950917    0.930739   0.000407\n",
       "1578 2021-04-12  0.953133    0.932724   0.000417\n",
       "1579 2021-04-13  0.959485    0.938893   0.000424\n",
       "1580 2021-04-14  0.938835    0.918827   0.000400\n",
       "\n",
       "[1581 rows x 4 columns]"
      ]
     },
     "execution_count": 51,
     "metadata": {},
     "output_type": "execute_result"
    }
   ],
   "source": [
    "# Plot the results\n",
    "#df_predicted, \"Original Vs. Prediction\")\n",
    "\n",
    "df_predicted.set_index('Date')\n",
    "df_predicted['Deviation'] = (df_predicted['Close'] - df_predicted['Prediction'])**2\n",
    "\n",
    "df_predicted\n"
   ]
  },
  {
   "cell_type": "code",
   "execution_count": 52,
   "metadata": {},
   "outputs": [
    {
     "data": {
      "image/png": "[encoded data removed]",
      "text/plain": [
       "<Figure size 432x288 with 1 Axes>"
      ]
     },
     "metadata": {
      "needs_background": "light"
     },
     "output_type": "display_data"
    }
   ],
   "source": [
    "plt.plot(df_predicted['Date'],df_predicted['Close'], label = \"Actual Price\")\n",
    "plt.plot(df_predicted['Date'],df_predicted['Prediction'], label = 'Prediction')\n",
    "\n",
    "\n",
    "plt.legend()\n",
    "plt.show()"
   ]
  },
  {
   "cell_type": "code",
   "execution_count": 53,
   "metadata": {},
   "outputs": [],
   "source": [
    "df_predicted_test = df_predicted.loc[split:]"
   ]
  },
  {
   "cell_type": "code",
   "execution_count": 54,
   "metadata": {},
   "outputs": [
    {
     "data": {
      "image/png": "[encoded data removed]",
      "text/plain": [
       "<Figure size 432x288 with 1 Axes>"
      ]
     },
     "metadata": {
      "needs_background": "light"
     },
     "output_type": "display_data"
    }
   ],
   "source": [
    "\n",
    "\n",
    "plt.plot(df_predicted_test['Date'],df_predicted_test['Close'], label = \"Actual Price\")\n",
    "plt.plot(df_predicted_test['Date'],df_predicted_test['Prediction'], label = 'Prediction')\n",
    "\n",
    "\n",
    "split = int(0.8 * len(X))\n",
    "X_train = X[:split]\n",
    "y_train = y[:split]\n",
    "X_test = X[split:]\n",
    "y_test = y[split:]"
   ]
  },
  {
   "cell_type": "markdown",
   "metadata": {},
   "source": [
    "# Model LSTM\n",
    "### LSTM uses neural networks to extrapolate to learn from long term dependencies\n",
    "### It can not only process single data points but entire sequences of data"
   ]
  },
  {
   "cell_type": "code",
   "execution_count": 21,
   "metadata": {},
   "outputs": [],
   "source": [
    "#Uses training set and extracts variables for model\n",
    "target_df.head()\n",
    "training_set = target_df.iloc[:, 1:2].values"
   ]
  },
  {
   "cell_type": "code",
   "execution_count": 25,
   "metadata": {},
   "outputs": [],
   "source": [
    "#Scale our data for optimal performance\n",
    "from sklearn.preprocessing import MinMaxScaler\n",
    "sc = MinMaxScaler(feature_range = (0, 1))"
   ]
  },
  {
   "cell_type": "code",
   "execution_count": 26,
   "metadata": {},
   "outputs": [
    {
     "data": {
      "text/html": [
       "<div>\n",
       "<style scoped>\n",
       "    .dataframe tbody tr th:only-of-type {\n",
       "        vertical-align: middle;\n",
       "    }\n",
       "\n",
       "    .dataframe tbody tr th {\n",
       "        vertical-align: top;\n",
       "    }\n",
       "\n",
       "    .dataframe thead th {\n",
       "        text-align: right;\n",
       "    }\n",
       "</style>\n",
       "<table border=\"1\" class=\"dataframe\">\n",
       "  <thead>\n",
       "    <tr style=\"text-align: right;\">\n",
       "      <th></th>\n",
       "      <th>High</th>\n",
       "      <th>Low</th>\n",
       "      <th>Open</th>\n",
       "      <th>Close</th>\n",
       "      <th>Volume</th>\n",
       "      <th>Adj Close</th>\n",
       "      <th>Moving_av</th>\n",
       "      <th>Increase_in_vol</th>\n",
       "      <th>Increase_in_adj_close</th>\n",
       "    </tr>\n",
       "    <tr>\n",
       "      <th>Date</th>\n",
       "      <th></th>\n",
       "      <th></th>\n",
       "      <th></th>\n",
       "      <th></th>\n",
       "      <th></th>\n",
       "      <th></th>\n",
       "      <th></th>\n",
       "      <th></th>\n",
       "      <th></th>\n",
       "    </tr>\n",
       "  </thead>\n",
       "  <tbody>\n",
       "    <tr>\n",
       "      <th>2015-01-02</th>\n",
       "      <td>314.750000</td>\n",
       "      <td>306.959991</td>\n",
       "      <td>312.579987</td>\n",
       "      <td>308.519989</td>\n",
       "      <td>2783200</td>\n",
       "      <td>308.519989</td>\n",
       "      <td>308.519989</td>\n",
       "      <td>0.0</td>\n",
       "      <td>0.000000</td>\n",
       "    </tr>\n",
       "    <tr>\n",
       "      <th>2015-01-05</th>\n",
       "      <td>308.380005</td>\n",
       "      <td>300.850006</td>\n",
       "      <td>307.010010</td>\n",
       "      <td>302.190002</td>\n",
       "      <td>2774200</td>\n",
       "      <td>302.190002</td>\n",
       "      <td>305.354996</td>\n",
       "      <td>-9000.0</td>\n",
       "      <td>-6.329987</td>\n",
       "    </tr>\n",
       "    <tr>\n",
       "      <th>2015-01-06</th>\n",
       "      <td>303.000000</td>\n",
       "      <td>292.380005</td>\n",
       "      <td>302.239990</td>\n",
       "      <td>295.290009</td>\n",
       "      <td>3519000</td>\n",
       "      <td>295.290009</td>\n",
       "      <td>302.000000</td>\n",
       "      <td>744800.0</td>\n",
       "      <td>-6.899994</td>\n",
       "    </tr>\n",
       "    <tr>\n",
       "      <th>2015-01-07</th>\n",
       "      <td>301.279999</td>\n",
       "      <td>295.329987</td>\n",
       "      <td>297.500000</td>\n",
       "      <td>298.420013</td>\n",
       "      <td>2640300</td>\n",
       "      <td>298.420013</td>\n",
       "      <td>301.105003</td>\n",
       "      <td>-878700.0</td>\n",
       "      <td>3.130005</td>\n",
       "    </tr>\n",
       "    <tr>\n",
       "      <th>2015-01-08</th>\n",
       "      <td>303.140015</td>\n",
       "      <td>296.109985</td>\n",
       "      <td>300.320007</td>\n",
       "      <td>300.459991</td>\n",
       "      <td>3088400</td>\n",
       "      <td>300.459991</td>\n",
       "      <td>300.976001</td>\n",
       "      <td>448100.0</td>\n",
       "      <td>2.039978</td>\n",
       "    </tr>\n",
       "  </tbody>\n",
       "</table>\n",
       "</div>"
      ],
      "text/plain": [
       "                  High         Low        Open       Close   Volume  \\\n",
       "Date                                                                  \n",
       "2015-01-02  314.750000  306.959991  312.579987  308.519989  2783200   \n",
       "2015-01-05  308.380005  300.850006  307.010010  302.190002  2774200   \n",
       "2015-01-06  303.000000  292.380005  302.239990  295.290009  3519000   \n",
       "2015-01-07  301.279999  295.329987  297.500000  298.420013  2640300   \n",
       "2015-01-08  303.140015  296.109985  300.320007  300.459991  3088400   \n",
       "\n",
       "             Adj Close   Moving_av  Increase_in_vol  Increase_in_adj_close  \n",
       "Date                                                                        \n",
       "2015-01-02  308.519989  308.519989              0.0               0.000000  \n",
       "2015-01-05  302.190002  305.354996          -9000.0              -6.329987  \n",
       "2015-01-06  295.290009  302.000000         744800.0              -6.899994  \n",
       "2015-01-07  298.420013  301.105003        -878700.0               3.130005  \n",
       "2015-01-08  300.459991  300.976001         448100.0               2.039978  "
      ]
     },
     "execution_count": 26,
     "metadata": {},
     "output_type": "execute_result"
    }
   ],
   "source": [
    "target_df.head()"
   ]
  },
  {
   "cell_type": "markdown",
   "metadata": {
    "id": "-YIzkMESnwwF"
   },
   "source": [
    "Execute to convert data into a numpy array, and split it between the train and test data. And to set the predicition labels, the y-values, as the 'Open' value for the target stock.\n",
    "\n"
   ]
  },
  {
   "cell_type": "code",
   "execution_count": 5,
   "metadata": {
    "id": "3JNEr3x7oFUs"
   },
   "outputs": [],
   "source": [
    "y = main_df[['Open']]\n",
    "y = y.to_numpy()\n",
    "X = main_df.drop(['Open'], axis=1)\n",
    "X = X.to_numpy()\n",
    "# data = main_df.to_numpy()\n",
    "X_train, X_test, y_train, y_test = train_test_split(X, y, test_size=.3)"
   ]
  },
  {
   "cell_type": "code",
   "execution_count": 13,
   "metadata": {},
   "outputs": [
    {
     "data": {
      "text/plain": [
       "array([[ 2.48614006e+01,  4.38619995e+01,  5.23373108e+02, ...,\n",
       "         3.08519989e+02,  0.00000000e+00,  0.00000000e+00],\n",
       "       [ 2.41610126e+01,  4.20180016e+01,  5.12463013e+02, ...,\n",
       "         3.05354996e+02, -9.00000000e+03, -6.32998657e+00],\n",
       "       [ 2.41632938e+01,  4.22560005e+01,  5.00585632e+02, ...,\n",
       "         3.02000000e+02,  7.44800000e+05, -6.89999390e+00],\n",
       "       ...,\n",
       "       [ 1.34668762e+02,  6.65989990e+02,  1.75871997e+03, ...,\n",
       "         3.17074299e+03, -8.13900000e+05,  3.80400391e+01],\n",
       "       [ 1.33520477e+02,  6.94780029e+02,  1.73952002e+03, ...,\n",
       "         3.17231580e+03, -1.66360000e+06, -3.61499023e+01],\n",
       "       [ 1.32492020e+02,  7.05669983e+02,  1.75188000e+03, ...,\n",
       "         3.17311419e+03, -2.52100000e+05, -2.89201660e+01]])"
      ]
     },
     "execution_count": 13,
     "metadata": {},
     "output_type": "execute_result"
    }
   ],
   "source": [
    "X"
   ]
  },
  {
   "cell_type": "markdown",
   "metadata": {
    "id": "WbvVZe0YvX1G"
   },
   "source": [
    "# Model time!"
   ]
  },
  {
   "cell_type": "markdown",
   "metadata": {
    "id": "Pw4mi5OyseP-"
   },
   "source": [
    "Now we create and select our features for our target stock.\n",
    "\n",
    "Features stored/created:\n",
    "\n",
    "* Adjusted Close\t\n",
    "* Moving average\t\n",
    "* Increase in volume\t\n",
    "* Increase in adjusted close\n"
   ]
  },
  {
   "cell_type": "markdown",
   "metadata": {
    "id": "Z7S3XI3onfzR"
   },
   "source": [
    "Execute to join the target stock's features with the other tickers specified earlier."
   ]
  },
  {
   "cell_type": "code",
   "execution_count": 4,
   "metadata": {
    "id": "v-196wmKuGTP"
   },
   "outputs": [],
   "source": [
    "main_df = main_df.join(target_df, how='outer')"
   ]
  },
  {
   "cell_type": "code",
   "execution_count": 3,
   "metadata": {
    "id": "hlssLHRenT1S"
   },
   "outputs": [],
   "source": [
    "target_df = web.DataReader(target, 'yahoo', start, end)\n",
    "\n",
    "#calculate the moving average for a feature\n",
    "target_df['Moving_av'] = target_df['Adj Close'].rolling(window=50, min_periods=0).mean()\n",
    "\n",
    "#Calculate the rate of increase in volume and rate of increase in adjusted close \n",
    "i = 1\n",
    "rate_increase_in_vol = [0]\n",
    "rate_increase_in_adj_close = [0]\n",
    "\n",
    "while i < len(target_df):\n",
    "    rate_increase_in_vol.append(target_df.iloc[i]['Volume']-target_df.iloc[i - 1]['Volume'])\n",
    "    rate_increase_in_adj_close.append(target_df.iloc[i]['Adj Close']-target_df.iloc[i - 1]['Adj Close'])\n",
    "    i += 1\n",
    "\n",
    "target_df['Increase_in_vol'] = rate_increase_in_vol\n",
    "target_df['Increase_in_adj_close'] = rate_increase_in_adj_close    "
   ]
  },
  {
   "cell_type": "code",
   "execution_count": 16,
   "metadata": {
    "id": "QFrR3euMu8E3"
   },
   "outputs": [
    {
     "ename": "ModuleNotFoundError",
     "evalue": "No module named 'tensorflow'",
     "output_type": "error",
     "traceback": [
      "\u001b[1;31m---------------------------------------------------------------------------\u001b[0m",
      "\u001b[1;31mModuleNotFoundError\u001b[0m                       Traceback (most recent call last)",
      "\u001b[1;32m<ipython-input-16-b6bc685904b3>\u001b[0m in \u001b[0;36m<module>\u001b[1;34m\u001b[0m\n\u001b[1;32m----> 1\u001b[1;33m \u001b[1;32mimport\u001b[0m \u001b[0mtensorflow\u001b[0m \u001b[1;32mas\u001b[0m \u001b[0mtf\u001b[0m\u001b[1;33m\u001b[0m\u001b[1;33m\u001b[0m\u001b[0m\n\u001b[0m\u001b[0;32m      2\u001b[0m \u001b[1;32mfrom\u001b[0m \u001b[0mkeras\u001b[0m\u001b[1;33m.\u001b[0m\u001b[0mmodels\u001b[0m \u001b[1;32mimport\u001b[0m \u001b[0mSequential\u001b[0m\u001b[1;33m\u001b[0m\u001b[1;33m\u001b[0m\u001b[0m\n",
      "\u001b[1;31mModuleNotFoundError\u001b[0m: No module named 'tensorflow'"
     ]
    }
   ],
   "source": [
    "import tensorflow as tf\n",
    "from keras.models import Sequential"
   ]
  },
  {
   "cell_type": "code",
   "execution_count": null,
   "metadata": {},
   "outputs": [],
   "source": []
  },
  {
   "cell_type": "markdown",
   "metadata": {
    "id": "R1FcEFDAxjO1"
   },
   "source": [
    "Where we can play around with the layers, and activation functions"
   ]
  },
  {
   "cell_type": "code",
   "execution_count": 90,
   "metadata": {
    "id": "AmY0FkVuvhQw"
   },
   "outputs": [],
   "source": [
    "N,D = X.shape\n",
    "\n",
    "model = Sequential([\n",
    "    tf.keras.layers.InputLayer((D,)),\n",
    "    #layer1\n",
    "    #layer2\n",
    "    #....\n",
    "\n",
    "\n",
    "    #layer L\n",
    "    tf.keras.layers.Dense(1, activation='sigmoid'),\n",
    "])"
   ]
  },
  {
   "cell_type": "code",
   "execution_count": null,
   "metadata": {
    "id": "YCbLMhbgwX-b"
   },
   "outputs": [],
   "source": []
  }
 ],
 "metadata": {
  "colab": {
   "collapsed_sections": [],
   "name": "StockPrediction.ipynb",
   "provenance": []
  },
  "kernelspec": {
   "display_name": "Python 3",
   "language": "python",
   "name": "python3"
  },
  "language_info": {
   "codemirror_mode": {
    "name": "ipython",
    "version": 3
   },
   "file_extension": ".py",
   "mimetype": "text/x-python",
   "name": "python",
   "nbconvert_exporter": "python",
   "pygments_lexer": "ipython3",
   "version": "3.7.6"
  }
 },
 "nbformat": 4,
 "nbformat_minor": 1
}
